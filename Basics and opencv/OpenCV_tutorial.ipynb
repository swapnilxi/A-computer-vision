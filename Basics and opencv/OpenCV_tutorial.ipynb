{
  "nbformat": 4,
  "nbformat_minor": 0,
  "metadata": {
    "colab": {
      "provenance": [],
      "toc_visible": true,
      "authorship_tag": "ABX9TyN00e5GoM3HFjzWuwbt3LNM",
      "include_colab_link": true
    },
    "kernelspec": {
      "name": "python3",
      "display_name": "Python 3"
    },
    "language_info": {
      "name": "python"
    }
  },
  "cells": [
    {
      "cell_type": "markdown",
      "metadata": {
        "id": "view-in-github",
        "colab_type": "text"
      },
      "source": [
        "<a href=\"https://colab.research.google.com/github/swapnilxi/computer-vision/blob/main/OpenCV_tutorial.ipynb\" target=\"_parent\"><img src=\"https://colab.research.google.com/assets/colab-badge.svg\" alt=\"Open In Colab\"/></a>"
      ]
    },
    {
      "cell_type": "markdown",
      "source": [
        "# OpenCV"
      ],
      "metadata": {
        "id": "FTDyiQlHS-T2"
      }
    },
    {
      "cell_type": "markdown",
      "source": [
        "## introduction"
      ],
      "metadata": {
        "id": "TYhR5CPyTIJZ"
      }
    },
    {
      "cell_type": "code",
      "source": [
        "import numpy as np\n",
        "import matplotlib.pyplot as plt\n",
        "%matplotlib inline\n",
        "\n",
        "import cv2"
      ],
      "metadata": {
        "id": "a3Ilo4xRTMbZ"
      },
      "execution_count": null,
      "outputs": []
    },
    {
      "cell_type": "markdown",
      "source": [
        "## reading the image"
      ],
      "metadata": {
        "id": "V64hkvmJZmB4"
      }
    },
    {
      "cell_type": "code",
      "source": [
        "from google.colab import drive\n",
        "drive.mount('/content/drive')"
      ],
      "metadata": {
        "colab": {
          "base_uri": "https://localhost:8080/"
        },
        "id": "Cg13xbbabUj6",
        "outputId": "09e68e43-c4ae-43e9-c528-bd2986448596"
      },
      "execution_count": null,
      "outputs": [
        {
          "output_type": "stream",
          "name": "stdout",
          "text": [
            "Mounted at /content/drive\n"
          ]
        }
      ]
    },
    {
      "cell_type": "code",
      "source": [
        "img= cv2.imread('/content/drive/My Drive/Colab Notebooks/ComputerVision/ImageData/testImg.jpg')"
      ],
      "metadata": {
        "id": "J9P8wzVZZV0Y"
      },
      "execution_count": null,
      "outputs": []
    }
  ]
}