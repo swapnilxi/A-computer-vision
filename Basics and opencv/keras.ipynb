{
  "nbformat": 4,
  "nbformat_minor": 0,
  "metadata": {
    "colab": {
      "provenance": [],
      "mount_file_id": "1zxBHRm1j9MO0Y1zkX2sIDh5Yd3EFrY-m",
      "authorship_tag": "ABX9TyOo6ZMblN2RKYHH+RTN7872",
      "include_colab_link": true
    },
    "kernelspec": {
      "name": "python3",
      "display_name": "Python 3"
    },
    "language_info": {
      "name": "python"
    }
  },
  "cells": [
    {
      "cell_type": "markdown",
      "metadata": {
        "id": "view-in-github",
        "colab_type": "text"
      },
      "source": [
        "<a href=\"https://colab.research.google.com/github/swapnilxi/A-computer-vision/blob/main/keras.ipynb\" target=\"_parent\"><img src=\"https://colab.research.google.com/assets/colab-badge.svg\" alt=\"Open In Colab\"/></a>"
      ]
    },
    {
      "cell_type": "code",
      "execution_count": null,
      "metadata": {
        "id": "pSgt0wACev0x"
      },
      "outputs": [],
      "source": [
        "import numpy as np\n",
        "from numpy import genfromtxt"
      ]
    },
    {
      "cell_type": "code",
      "source": [
        "data = genfromtxt('/content/drive/MyDrive/Colab Notebooks/ComputerVision/ImageData/bank_note_data.txt', delimiter=',')\n",
        "data"
      ],
      "metadata": {
        "colab": {
          "base_uri": "https://localhost:8080/"
        },
        "id": "onUTcMmDhncz",
        "outputId": "eef6d97b-14b5-428f-8f4e-4fe4c56d967a"
      },
      "execution_count": null,
      "outputs": [
        {
          "output_type": "execute_result",
          "data": {
            "text/plain": [
              "array([[  3.6216 ,   8.6661 ,  -2.8073 ,  -0.44699,   0.     ],\n",
              "       [  4.5459 ,   8.1674 ,  -2.4586 ,  -1.4621 ,   0.     ],\n",
              "       [  3.866  ,  -2.6383 ,   1.9242 ,   0.10645,   0.     ],\n",
              "       ...,\n",
              "       [ -3.7503 , -13.4586 ,  17.5932 ,  -2.7771 ,   1.     ],\n",
              "       [ -3.5637 ,  -8.3827 ,  12.393  ,  -1.2823 ,   1.     ],\n",
              "       [ -2.5419 ,  -0.65804,   2.6842 ,   1.1952 ,   1.     ]])"
            ]
          },
          "metadata": {},
          "execution_count": 18
        }
      ]
    },
    {
      "cell_type": "markdown",
      "source": [
        "0 and 1 are label to show not are real of fake , in next step we are going to seprate real feature from the feature list"
      ],
      "metadata": {
        "id": "RtRnewjmifMj"
      }
    },
    {
      "cell_type": "code",
      "source": [
        "labels= data[:,4]\n",
        "labels"
      ],
      "metadata": {
        "colab": {
          "base_uri": "https://localhost:8080/"
        },
        "id": "qBpmi1aAiejR",
        "outputId": "d2cfd8b2-6a04-49a5-d345-28d0b493b5a8"
      },
      "execution_count": null,
      "outputs": [
        {
          "output_type": "execute_result",
          "data": {
            "text/plain": [
              "array([0., 0., 0., ..., 1., 1., 1.])"
            ]
          },
          "metadata": {},
          "execution_count": 19
        }
      ]
    },
    {
      "cell_type": "markdown",
      "source": [
        "now grabbing the feature getting everything except 4th column"
      ],
      "metadata": {
        "id": "777Uc4y2jJK_"
      }
    },
    {
      "cell_type": "code",
      "source": [
        "features= data[:,0:4]\n",
        "features"
      ],
      "metadata": {
        "colab": {
          "base_uri": "https://localhost:8080/"
        },
        "id": "pOjyIHv_iTOo",
        "outputId": "51f45824-f874-4c88-d27b-d1b8ce5b2f9f"
      },
      "execution_count": null,
      "outputs": [
        {
          "output_type": "execute_result",
          "data": {
            "text/plain": [
              "array([[  3.6216 ,   8.6661 ,  -2.8073 ,  -0.44699],\n",
              "       [  4.5459 ,   8.1674 ,  -2.4586 ,  -1.4621 ],\n",
              "       [  3.866  ,  -2.6383 ,   1.9242 ,   0.10645],\n",
              "       ...,\n",
              "       [ -3.7503 , -13.4586 ,  17.5932 ,  -2.7771 ],\n",
              "       [ -3.5637 ,  -8.3827 ,  12.393  ,  -1.2823 ],\n",
              "       [ -2.5419 ,  -0.65804,   2.6842 ,   1.1952 ]])"
            ]
          },
          "metadata": {},
          "execution_count": 20
        }
      ]
    },
    {
      "cell_type": "markdown",
      "source": [
        "##Test and Train data\n",
        "let's make a test and training set data before doing That 's call label as X and features as y"
      ],
      "metadata": {
        "id": "JtkSVwePjUM5"
      }
    },
    {
      "cell_type": "code",
      "source": [
        "X= features\n",
        "y= labels"
      ],
      "metadata": {
        "id": "jTh6Oas_jU2i"
      },
      "execution_count": null,
      "outputs": []
    },
    {
      "cell_type": "code",
      "source": [
        "from sklearn.model_selection import train_test_split"
      ],
      "metadata": {
        "id": "WE4ZlxYajuFG"
      },
      "execution_count": null,
      "outputs": []
    },
    {
      "cell_type": "markdown",
      "source": [
        "testSize meaning it will take 30% data from X and 30% from y, also random_state is convention from book which will shuffle the data and auto sort it"
      ],
      "metadata": {
        "id": "FSOwADkNlO3w"
      }
    },
    {
      "cell_type": "code",
      "source": [
        "X_train, X_test, y_train, y_test =train_test_split(X, y, test_size=0.33, random_state=42)"
      ],
      "metadata": {
        "id": "x43nFFGmka12"
      },
      "execution_count": null,
      "outputs": []
    },
    {
      "cell_type": "code",
      "source": [
        "X_train"
      ],
      "metadata": {
        "colab": {
          "base_uri": "https://localhost:8080/"
        },
        "id": "tuSJZjs3le9K",
        "outputId": "d356f286-91b0-4bd2-d676-8c06a14afead"
      },
      "execution_count": null,
      "outputs": [
        {
          "output_type": "execute_result",
          "data": {
            "text/plain": [
              "array([[-0.8734  , -0.033118, -0.20165 ,  0.55774 ],\n",
              "       [ 2.0177  ,  1.7982  , -2.9581  ,  0.2099  ],\n",
              "       [-0.36038 ,  4.1158  ,  3.1143  , -0.37199 ],\n",
              "       ...,\n",
              "       [-7.0364  ,  9.2931  ,  0.16594 , -4.5396  ],\n",
              "       [-3.4605  ,  2.6901  ,  0.16165 , -1.0224  ],\n",
              "       [-3.3582  , -7.2404  , 11.4419  , -0.57113 ]])"
            ]
          },
          "metadata": {},
          "execution_count": 24
        }
      ]
    },
    {
      "cell_type": "markdown",
      "source": [
        "60-30% distribution between train and test data set"
      ],
      "metadata": {
        "id": "qUIRsGqdl99n"
      }
    },
    {
      "cell_type": "code",
      "source": [
        "len(X), len(X_train), len(X_test)"
      ],
      "metadata": {
        "colab": {
          "base_uri": "https://localhost:8080/"
        },
        "id": "q18JuShblnFD",
        "outputId": "9fc8d7d3-5c3d-4dc6-f8d1-e848ba23ad7d"
      },
      "execution_count": null,
      "outputs": [
        {
          "output_type": "execute_result",
          "data": {
            "text/plain": [
              "(1372, 919, 453)"
            ]
          },
          "metadata": {},
          "execution_count": 25
        }
      ]
    },
    {
      "cell_type": "code",
      "source": [
        "X_test.min(), X_test.max()"
      ],
      "metadata": {
        "colab": {
          "base_uri": "https://localhost:8080/"
        },
        "id": "o8Uj8Ti6lshs",
        "outputId": "1e3a7480-965d-4531-eaad-e2d30059566e"
      },
      "execution_count": null,
      "outputs": [
        {
          "output_type": "execute_result",
          "data": {
            "text/plain": [
              "(-13.2869, 17.1116)"
            ]
          },
          "metadata": {},
          "execution_count": 26
        }
      ]
    },
    {
      "cell_type": "markdown",
      "source": [
        "the range of min and max is similar, if one is like million and other like in 100 then it is good idea to have min max scaler"
      ],
      "metadata": {
        "id": "vVngmvAamXhp"
      }
    },
    {
      "cell_type": "code",
      "source": [
        "import sklearn\n",
        "from sklearn.preprocessing import MinMaxScaler\n",
        "\n",
        "# Initialize MinMaxScaler\n",
        "scaler_object = MinMaxScaler()"
      ],
      "metadata": {
        "id": "affhtGtZm-0k"
      },
      "execution_count": null,
      "outputs": []
    },
    {
      "cell_type": "code",
      "source": [
        "scaler_object.fit(X_train)"
      ],
      "metadata": {
        "colab": {
          "base_uri": "https://localhost:8080/",
          "height": 80
        },
        "id": "9IbcyCqymjjS",
        "outputId": "3ec39e5e-cd4e-4ec8-bcb2-1432acfcbc49"
      },
      "execution_count": null,
      "outputs": [
        {
          "output_type": "execute_result",
          "data": {
            "text/plain": [
              "MinMaxScaler()"
            ],
            "text/html": [
              "<style>#sk-container-id-1 {\n",
              "  /* Definition of color scheme common for light and dark mode */\n",
              "  --sklearn-color-text: #000;\n",
              "  --sklearn-color-text-muted: #666;\n",
              "  --sklearn-color-line: gray;\n",
              "  /* Definition of color scheme for unfitted estimators */\n",
              "  --sklearn-color-unfitted-level-0: #fff5e6;\n",
              "  --sklearn-color-unfitted-level-1: #f6e4d2;\n",
              "  --sklearn-color-unfitted-level-2: #ffe0b3;\n",
              "  --sklearn-color-unfitted-level-3: chocolate;\n",
              "  /* Definition of color scheme for fitted estimators */\n",
              "  --sklearn-color-fitted-level-0: #f0f8ff;\n",
              "  --sklearn-color-fitted-level-1: #d4ebff;\n",
              "  --sklearn-color-fitted-level-2: #b3dbfd;\n",
              "  --sklearn-color-fitted-level-3: cornflowerblue;\n",
              "\n",
              "  /* Specific color for light theme */\n",
              "  --sklearn-color-text-on-default-background: var(--sg-text-color, var(--theme-code-foreground, var(--jp-content-font-color1, black)));\n",
              "  --sklearn-color-background: var(--sg-background-color, var(--theme-background, var(--jp-layout-color0, white)));\n",
              "  --sklearn-color-border-box: var(--sg-text-color, var(--theme-code-foreground, var(--jp-content-font-color1, black)));\n",
              "  --sklearn-color-icon: #696969;\n",
              "\n",
              "  @media (prefers-color-scheme: dark) {\n",
              "    /* Redefinition of color scheme for dark theme */\n",
              "    --sklearn-color-text-on-default-background: var(--sg-text-color, var(--theme-code-foreground, var(--jp-content-font-color1, white)));\n",
              "    --sklearn-color-background: var(--sg-background-color, var(--theme-background, var(--jp-layout-color0, #111)));\n",
              "    --sklearn-color-border-box: var(--sg-text-color, var(--theme-code-foreground, var(--jp-content-font-color1, white)));\n",
              "    --sklearn-color-icon: #878787;\n",
              "  }\n",
              "}\n",
              "\n",
              "#sk-container-id-1 {\n",
              "  color: var(--sklearn-color-text);\n",
              "}\n",
              "\n",
              "#sk-container-id-1 pre {\n",
              "  padding: 0;\n",
              "}\n",
              "\n",
              "#sk-container-id-1 input.sk-hidden--visually {\n",
              "  border: 0;\n",
              "  clip: rect(1px 1px 1px 1px);\n",
              "  clip: rect(1px, 1px, 1px, 1px);\n",
              "  height: 1px;\n",
              "  margin: -1px;\n",
              "  overflow: hidden;\n",
              "  padding: 0;\n",
              "  position: absolute;\n",
              "  width: 1px;\n",
              "}\n",
              "\n",
              "#sk-container-id-1 div.sk-dashed-wrapped {\n",
              "  border: 1px dashed var(--sklearn-color-line);\n",
              "  margin: 0 0.4em 0.5em 0.4em;\n",
              "  box-sizing: border-box;\n",
              "  padding-bottom: 0.4em;\n",
              "  background-color: var(--sklearn-color-background);\n",
              "}\n",
              "\n",
              "#sk-container-id-1 div.sk-container {\n",
              "  /* jupyter's `normalize.less` sets `[hidden] { display: none; }`\n",
              "     but bootstrap.min.css set `[hidden] { display: none !important; }`\n",
              "     so we also need the `!important` here to be able to override the\n",
              "     default hidden behavior on the sphinx rendered scikit-learn.org.\n",
              "     See: https://github.com/scikit-learn/scikit-learn/issues/21755 */\n",
              "  display: inline-block !important;\n",
              "  position: relative;\n",
              "}\n",
              "\n",
              "#sk-container-id-1 div.sk-text-repr-fallback {\n",
              "  display: none;\n",
              "}\n",
              "\n",
              "div.sk-parallel-item,\n",
              "div.sk-serial,\n",
              "div.sk-item {\n",
              "  /* draw centered vertical line to link estimators */\n",
              "  background-image: linear-gradient(var(--sklearn-color-text-on-default-background), var(--sklearn-color-text-on-default-background));\n",
              "  background-size: 2px 100%;\n",
              "  background-repeat: no-repeat;\n",
              "  background-position: center center;\n",
              "}\n",
              "\n",
              "/* Parallel-specific style estimator block */\n",
              "\n",
              "#sk-container-id-1 div.sk-parallel-item::after {\n",
              "  content: \"\";\n",
              "  width: 100%;\n",
              "  border-bottom: 2px solid var(--sklearn-color-text-on-default-background);\n",
              "  flex-grow: 1;\n",
              "}\n",
              "\n",
              "#sk-container-id-1 div.sk-parallel {\n",
              "  display: flex;\n",
              "  align-items: stretch;\n",
              "  justify-content: center;\n",
              "  background-color: var(--sklearn-color-background);\n",
              "  position: relative;\n",
              "}\n",
              "\n",
              "#sk-container-id-1 div.sk-parallel-item {\n",
              "  display: flex;\n",
              "  flex-direction: column;\n",
              "}\n",
              "\n",
              "#sk-container-id-1 div.sk-parallel-item:first-child::after {\n",
              "  align-self: flex-end;\n",
              "  width: 50%;\n",
              "}\n",
              "\n",
              "#sk-container-id-1 div.sk-parallel-item:last-child::after {\n",
              "  align-self: flex-start;\n",
              "  width: 50%;\n",
              "}\n",
              "\n",
              "#sk-container-id-1 div.sk-parallel-item:only-child::after {\n",
              "  width: 0;\n",
              "}\n",
              "\n",
              "/* Serial-specific style estimator block */\n",
              "\n",
              "#sk-container-id-1 div.sk-serial {\n",
              "  display: flex;\n",
              "  flex-direction: column;\n",
              "  align-items: center;\n",
              "  background-color: var(--sklearn-color-background);\n",
              "  padding-right: 1em;\n",
              "  padding-left: 1em;\n",
              "}\n",
              "\n",
              "\n",
              "/* Toggleable style: style used for estimator/Pipeline/ColumnTransformer box that is\n",
              "clickable and can be expanded/collapsed.\n",
              "- Pipeline and ColumnTransformer use this feature and define the default style\n",
              "- Estimators will overwrite some part of the style using the `sk-estimator` class\n",
              "*/\n",
              "\n",
              "/* Pipeline and ColumnTransformer style (default) */\n",
              "\n",
              "#sk-container-id-1 div.sk-toggleable {\n",
              "  /* Default theme specific background. It is overwritten whether we have a\n",
              "  specific estimator or a Pipeline/ColumnTransformer */\n",
              "  background-color: var(--sklearn-color-background);\n",
              "}\n",
              "\n",
              "/* Toggleable label */\n",
              "#sk-container-id-1 label.sk-toggleable__label {\n",
              "  cursor: pointer;\n",
              "  display: flex;\n",
              "  width: 100%;\n",
              "  margin-bottom: 0;\n",
              "  padding: 0.5em;\n",
              "  box-sizing: border-box;\n",
              "  text-align: center;\n",
              "  align-items: start;\n",
              "  justify-content: space-between;\n",
              "  gap: 0.5em;\n",
              "}\n",
              "\n",
              "#sk-container-id-1 label.sk-toggleable__label .caption {\n",
              "  font-size: 0.6rem;\n",
              "  font-weight: lighter;\n",
              "  color: var(--sklearn-color-text-muted);\n",
              "}\n",
              "\n",
              "#sk-container-id-1 label.sk-toggleable__label-arrow:before {\n",
              "  /* Arrow on the left of the label */\n",
              "  content: \"▸\";\n",
              "  float: left;\n",
              "  margin-right: 0.25em;\n",
              "  color: var(--sklearn-color-icon);\n",
              "}\n",
              "\n",
              "#sk-container-id-1 label.sk-toggleable__label-arrow:hover:before {\n",
              "  color: var(--sklearn-color-text);\n",
              "}\n",
              "\n",
              "/* Toggleable content - dropdown */\n",
              "\n",
              "#sk-container-id-1 div.sk-toggleable__content {\n",
              "  max-height: 0;\n",
              "  max-width: 0;\n",
              "  overflow: hidden;\n",
              "  text-align: left;\n",
              "  /* unfitted */\n",
              "  background-color: var(--sklearn-color-unfitted-level-0);\n",
              "}\n",
              "\n",
              "#sk-container-id-1 div.sk-toggleable__content.fitted {\n",
              "  /* fitted */\n",
              "  background-color: var(--sklearn-color-fitted-level-0);\n",
              "}\n",
              "\n",
              "#sk-container-id-1 div.sk-toggleable__content pre {\n",
              "  margin: 0.2em;\n",
              "  border-radius: 0.25em;\n",
              "  color: var(--sklearn-color-text);\n",
              "  /* unfitted */\n",
              "  background-color: var(--sklearn-color-unfitted-level-0);\n",
              "}\n",
              "\n",
              "#sk-container-id-1 div.sk-toggleable__content.fitted pre {\n",
              "  /* unfitted */\n",
              "  background-color: var(--sklearn-color-fitted-level-0);\n",
              "}\n",
              "\n",
              "#sk-container-id-1 input.sk-toggleable__control:checked~div.sk-toggleable__content {\n",
              "  /* Expand drop-down */\n",
              "  max-height: 200px;\n",
              "  max-width: 100%;\n",
              "  overflow: auto;\n",
              "}\n",
              "\n",
              "#sk-container-id-1 input.sk-toggleable__control:checked~label.sk-toggleable__label-arrow:before {\n",
              "  content: \"▾\";\n",
              "}\n",
              "\n",
              "/* Pipeline/ColumnTransformer-specific style */\n",
              "\n",
              "#sk-container-id-1 div.sk-label input.sk-toggleable__control:checked~label.sk-toggleable__label {\n",
              "  color: var(--sklearn-color-text);\n",
              "  background-color: var(--sklearn-color-unfitted-level-2);\n",
              "}\n",
              "\n",
              "#sk-container-id-1 div.sk-label.fitted input.sk-toggleable__control:checked~label.sk-toggleable__label {\n",
              "  background-color: var(--sklearn-color-fitted-level-2);\n",
              "}\n",
              "\n",
              "/* Estimator-specific style */\n",
              "\n",
              "/* Colorize estimator box */\n",
              "#sk-container-id-1 div.sk-estimator input.sk-toggleable__control:checked~label.sk-toggleable__label {\n",
              "  /* unfitted */\n",
              "  background-color: var(--sklearn-color-unfitted-level-2);\n",
              "}\n",
              "\n",
              "#sk-container-id-1 div.sk-estimator.fitted input.sk-toggleable__control:checked~label.sk-toggleable__label {\n",
              "  /* fitted */\n",
              "  background-color: var(--sklearn-color-fitted-level-2);\n",
              "}\n",
              "\n",
              "#sk-container-id-1 div.sk-label label.sk-toggleable__label,\n",
              "#sk-container-id-1 div.sk-label label {\n",
              "  /* The background is the default theme color */\n",
              "  color: var(--sklearn-color-text-on-default-background);\n",
              "}\n",
              "\n",
              "/* On hover, darken the color of the background */\n",
              "#sk-container-id-1 div.sk-label:hover label.sk-toggleable__label {\n",
              "  color: var(--sklearn-color-text);\n",
              "  background-color: var(--sklearn-color-unfitted-level-2);\n",
              "}\n",
              "\n",
              "/* Label box, darken color on hover, fitted */\n",
              "#sk-container-id-1 div.sk-label.fitted:hover label.sk-toggleable__label.fitted {\n",
              "  color: var(--sklearn-color-text);\n",
              "  background-color: var(--sklearn-color-fitted-level-2);\n",
              "}\n",
              "\n",
              "/* Estimator label */\n",
              "\n",
              "#sk-container-id-1 div.sk-label label {\n",
              "  font-family: monospace;\n",
              "  font-weight: bold;\n",
              "  display: inline-block;\n",
              "  line-height: 1.2em;\n",
              "}\n",
              "\n",
              "#sk-container-id-1 div.sk-label-container {\n",
              "  text-align: center;\n",
              "}\n",
              "\n",
              "/* Estimator-specific */\n",
              "#sk-container-id-1 div.sk-estimator {\n",
              "  font-family: monospace;\n",
              "  border: 1px dotted var(--sklearn-color-border-box);\n",
              "  border-radius: 0.25em;\n",
              "  box-sizing: border-box;\n",
              "  margin-bottom: 0.5em;\n",
              "  /* unfitted */\n",
              "  background-color: var(--sklearn-color-unfitted-level-0);\n",
              "}\n",
              "\n",
              "#sk-container-id-1 div.sk-estimator.fitted {\n",
              "  /* fitted */\n",
              "  background-color: var(--sklearn-color-fitted-level-0);\n",
              "}\n",
              "\n",
              "/* on hover */\n",
              "#sk-container-id-1 div.sk-estimator:hover {\n",
              "  /* unfitted */\n",
              "  background-color: var(--sklearn-color-unfitted-level-2);\n",
              "}\n",
              "\n",
              "#sk-container-id-1 div.sk-estimator.fitted:hover {\n",
              "  /* fitted */\n",
              "  background-color: var(--sklearn-color-fitted-level-2);\n",
              "}\n",
              "\n",
              "/* Specification for estimator info (e.g. \"i\" and \"?\") */\n",
              "\n",
              "/* Common style for \"i\" and \"?\" */\n",
              "\n",
              ".sk-estimator-doc-link,\n",
              "a:link.sk-estimator-doc-link,\n",
              "a:visited.sk-estimator-doc-link {\n",
              "  float: right;\n",
              "  font-size: smaller;\n",
              "  line-height: 1em;\n",
              "  font-family: monospace;\n",
              "  background-color: var(--sklearn-color-background);\n",
              "  border-radius: 1em;\n",
              "  height: 1em;\n",
              "  width: 1em;\n",
              "  text-decoration: none !important;\n",
              "  margin-left: 0.5em;\n",
              "  text-align: center;\n",
              "  /* unfitted */\n",
              "  border: var(--sklearn-color-unfitted-level-1) 1pt solid;\n",
              "  color: var(--sklearn-color-unfitted-level-1);\n",
              "}\n",
              "\n",
              ".sk-estimator-doc-link.fitted,\n",
              "a:link.sk-estimator-doc-link.fitted,\n",
              "a:visited.sk-estimator-doc-link.fitted {\n",
              "  /* fitted */\n",
              "  border: var(--sklearn-color-fitted-level-1) 1pt solid;\n",
              "  color: var(--sklearn-color-fitted-level-1);\n",
              "}\n",
              "\n",
              "/* On hover */\n",
              "div.sk-estimator:hover .sk-estimator-doc-link:hover,\n",
              ".sk-estimator-doc-link:hover,\n",
              "div.sk-label-container:hover .sk-estimator-doc-link:hover,\n",
              ".sk-estimator-doc-link:hover {\n",
              "  /* unfitted */\n",
              "  background-color: var(--sklearn-color-unfitted-level-3);\n",
              "  color: var(--sklearn-color-background);\n",
              "  text-decoration: none;\n",
              "}\n",
              "\n",
              "div.sk-estimator.fitted:hover .sk-estimator-doc-link.fitted:hover,\n",
              ".sk-estimator-doc-link.fitted:hover,\n",
              "div.sk-label-container:hover .sk-estimator-doc-link.fitted:hover,\n",
              ".sk-estimator-doc-link.fitted:hover {\n",
              "  /* fitted */\n",
              "  background-color: var(--sklearn-color-fitted-level-3);\n",
              "  color: var(--sklearn-color-background);\n",
              "  text-decoration: none;\n",
              "}\n",
              "\n",
              "/* Span, style for the box shown on hovering the info icon */\n",
              ".sk-estimator-doc-link span {\n",
              "  display: none;\n",
              "  z-index: 9999;\n",
              "  position: relative;\n",
              "  font-weight: normal;\n",
              "  right: .2ex;\n",
              "  padding: .5ex;\n",
              "  margin: .5ex;\n",
              "  width: min-content;\n",
              "  min-width: 20ex;\n",
              "  max-width: 50ex;\n",
              "  color: var(--sklearn-color-text);\n",
              "  box-shadow: 2pt 2pt 4pt #999;\n",
              "  /* unfitted */\n",
              "  background: var(--sklearn-color-unfitted-level-0);\n",
              "  border: .5pt solid var(--sklearn-color-unfitted-level-3);\n",
              "}\n",
              "\n",
              ".sk-estimator-doc-link.fitted span {\n",
              "  /* fitted */\n",
              "  background: var(--sklearn-color-fitted-level-0);\n",
              "  border: var(--sklearn-color-fitted-level-3);\n",
              "}\n",
              "\n",
              ".sk-estimator-doc-link:hover span {\n",
              "  display: block;\n",
              "}\n",
              "\n",
              "/* \"?\"-specific style due to the `<a>` HTML tag */\n",
              "\n",
              "#sk-container-id-1 a.estimator_doc_link {\n",
              "  float: right;\n",
              "  font-size: 1rem;\n",
              "  line-height: 1em;\n",
              "  font-family: monospace;\n",
              "  background-color: var(--sklearn-color-background);\n",
              "  border-radius: 1rem;\n",
              "  height: 1rem;\n",
              "  width: 1rem;\n",
              "  text-decoration: none;\n",
              "  /* unfitted */\n",
              "  color: var(--sklearn-color-unfitted-level-1);\n",
              "  border: var(--sklearn-color-unfitted-level-1) 1pt solid;\n",
              "}\n",
              "\n",
              "#sk-container-id-1 a.estimator_doc_link.fitted {\n",
              "  /* fitted */\n",
              "  border: var(--sklearn-color-fitted-level-1) 1pt solid;\n",
              "  color: var(--sklearn-color-fitted-level-1);\n",
              "}\n",
              "\n",
              "/* On hover */\n",
              "#sk-container-id-1 a.estimator_doc_link:hover {\n",
              "  /* unfitted */\n",
              "  background-color: var(--sklearn-color-unfitted-level-3);\n",
              "  color: var(--sklearn-color-background);\n",
              "  text-decoration: none;\n",
              "}\n",
              "\n",
              "#sk-container-id-1 a.estimator_doc_link.fitted:hover {\n",
              "  /* fitted */\n",
              "  background-color: var(--sklearn-color-fitted-level-3);\n",
              "}\n",
              "</style><div id=\"sk-container-id-1\" class=\"sk-top-container\"><div class=\"sk-text-repr-fallback\"><pre>MinMaxScaler()</pre><b>In a Jupyter environment, please rerun this cell to show the HTML representation or trust the notebook. <br />On GitHub, the HTML representation is unable to render, please try loading this page with nbviewer.org.</b></div><div class=\"sk-container\" hidden><div class=\"sk-item\"><div class=\"sk-estimator fitted sk-toggleable\"><input class=\"sk-toggleable__control sk-hidden--visually\" id=\"sk-estimator-id-1\" type=\"checkbox\" checked><label for=\"sk-estimator-id-1\" class=\"sk-toggleable__label fitted sk-toggleable__label-arrow\"><div><div>MinMaxScaler</div></div><div><a class=\"sk-estimator-doc-link fitted\" rel=\"noreferrer\" target=\"_blank\" href=\"https://scikit-learn.org/1.6/modules/generated/sklearn.preprocessing.MinMaxScaler.html\">?<span>Documentation for MinMaxScaler</span></a><span class=\"sk-estimator-doc-link fitted\">i<span>Fitted</span></span></div></label><div class=\"sk-toggleable__content fitted\"><pre>MinMaxScaler()</pre></div> </div></div></div></div>"
            ]
          },
          "metadata": {},
          "execution_count": 27
        }
      ]
    },
    {
      "cell_type": "code",
      "source": [
        "scaled_X_train= scaler_object.transform(X_train)\n",
        "scaled_X_test = scaler_object.transform(X_test)"
      ],
      "metadata": {
        "id": "jFmp_na8nuCZ"
      },
      "execution_count": null,
      "outputs": []
    },
    {
      "cell_type": "markdown",
      "source": [
        "we are only fitting the the training the training data not test else that mean we are purpousefully trying to peek and manipulate into test data"
      ],
      "metadata": {
        "id": "dW1oQXshoFKF"
      }
    },
    {
      "cell_type": "markdown",
      "source": [
        "#Keras\n",
        "- adding the dense layer\n"
      ],
      "metadata": {
        "id": "6LW8sbkX-FJU"
      }
    },
    {
      "cell_type": "markdown",
      "source": [],
      "metadata": {
        "id": "nCZonzum_GEH"
      }
    },
    {
      "cell_type": "code",
      "source": [],
      "metadata": {
        "id": "PoJXNVfe_G37"
      },
      "execution_count": null,
      "outputs": []
    },
    {
      "cell_type": "code",
      "source": [
        "!pip install tensorflow\n",
        "from tensorflow import keras\n",
        "from keras.models import Sequential\n",
        "from keras.layers import Dense"
      ],
      "metadata": {
        "colab": {
          "base_uri": "https://localhost:8080/"
        },
        "collapsed": true,
        "id": "KWrt8Pwr9UFv",
        "outputId": "a510b47f-4fb8-4b9b-f42f-877b351d65ef"
      },
      "execution_count": null,
      "outputs": [
        {
          "output_type": "stream",
          "name": "stdout",
          "text": [
            "Requirement already satisfied: tensorflow in /usr/local/lib/python3.11/dist-packages (2.18.0)\n",
            "Requirement already satisfied: absl-py>=1.0.0 in /usr/local/lib/python3.11/dist-packages (from tensorflow) (1.4.0)\n",
            "Requirement already satisfied: astunparse>=1.6.0 in /usr/local/lib/python3.11/dist-packages (from tensorflow) (1.6.3)\n",
            "Requirement already satisfied: flatbuffers>=24.3.25 in /usr/local/lib/python3.11/dist-packages (from tensorflow) (25.2.10)\n",
            "Requirement already satisfied: gast!=0.5.0,!=0.5.1,!=0.5.2,>=0.2.1 in /usr/local/lib/python3.11/dist-packages (from tensorflow) (0.6.0)\n",
            "Requirement already satisfied: google-pasta>=0.1.1 in /usr/local/lib/python3.11/dist-packages (from tensorflow) (0.2.0)\n",
            "Requirement already satisfied: libclang>=13.0.0 in /usr/local/lib/python3.11/dist-packages (from tensorflow) (18.1.1)\n",
            "Requirement already satisfied: opt-einsum>=2.3.2 in /usr/local/lib/python3.11/dist-packages (from tensorflow) (3.4.0)\n",
            "Requirement already satisfied: packaging in /usr/local/lib/python3.11/dist-packages (from tensorflow) (24.2)\n",
            "Requirement already satisfied: protobuf!=4.21.0,!=4.21.1,!=4.21.2,!=4.21.3,!=4.21.4,!=4.21.5,<6.0.0dev,>=3.20.3 in /usr/local/lib/python3.11/dist-packages (from tensorflow) (4.25.6)\n",
            "Requirement already satisfied: requests<3,>=2.21.0 in /usr/local/lib/python3.11/dist-packages (from tensorflow) (2.32.3)\n",
            "Requirement already satisfied: setuptools in /usr/local/lib/python3.11/dist-packages (from tensorflow) (75.1.0)\n",
            "Requirement already satisfied: six>=1.12.0 in /usr/local/lib/python3.11/dist-packages (from tensorflow) (1.17.0)\n",
            "Requirement already satisfied: termcolor>=1.1.0 in /usr/local/lib/python3.11/dist-packages (from tensorflow) (2.5.0)\n",
            "Requirement already satisfied: typing-extensions>=3.6.6 in /usr/local/lib/python3.11/dist-packages (from tensorflow) (4.12.2)\n",
            "Requirement already satisfied: wrapt>=1.11.0 in /usr/local/lib/python3.11/dist-packages (from tensorflow) (1.17.2)\n",
            "Requirement already satisfied: grpcio<2.0,>=1.24.3 in /usr/local/lib/python3.11/dist-packages (from tensorflow) (1.70.0)\n",
            "Requirement already satisfied: tensorboard<2.19,>=2.18 in /usr/local/lib/python3.11/dist-packages (from tensorflow) (2.18.0)\n",
            "Requirement already satisfied: keras>=3.5.0 in /usr/local/lib/python3.11/dist-packages (from tensorflow) (3.8.0)\n",
            "Requirement already satisfied: numpy<2.1.0,>=1.26.0 in /usr/local/lib/python3.11/dist-packages (from tensorflow) (1.26.4)\n",
            "Requirement already satisfied: h5py>=3.11.0 in /usr/local/lib/python3.11/dist-packages (from tensorflow) (3.12.1)\n",
            "Requirement already satisfied: ml-dtypes<0.5.0,>=0.4.0 in /usr/local/lib/python3.11/dist-packages (from tensorflow) (0.4.1)\n",
            "Requirement already satisfied: tensorflow-io-gcs-filesystem>=0.23.1 in /usr/local/lib/python3.11/dist-packages (from tensorflow) (0.37.1)\n",
            "Requirement already satisfied: wheel<1.0,>=0.23.0 in /usr/local/lib/python3.11/dist-packages (from astunparse>=1.6.0->tensorflow) (0.45.1)\n",
            "Requirement already satisfied: rich in /usr/local/lib/python3.11/dist-packages (from keras>=3.5.0->tensorflow) (13.9.4)\n",
            "Requirement already satisfied: namex in /usr/local/lib/python3.11/dist-packages (from keras>=3.5.0->tensorflow) (0.0.8)\n",
            "Requirement already satisfied: optree in /usr/local/lib/python3.11/dist-packages (from keras>=3.5.0->tensorflow) (0.14.1)\n",
            "Requirement already satisfied: charset-normalizer<4,>=2 in /usr/local/lib/python3.11/dist-packages (from requests<3,>=2.21.0->tensorflow) (3.4.1)\n",
            "Requirement already satisfied: idna<4,>=2.5 in /usr/local/lib/python3.11/dist-packages (from requests<3,>=2.21.0->tensorflow) (3.10)\n",
            "Requirement already satisfied: urllib3<3,>=1.21.1 in /usr/local/lib/python3.11/dist-packages (from requests<3,>=2.21.0->tensorflow) (2.3.0)\n",
            "Requirement already satisfied: certifi>=2017.4.17 in /usr/local/lib/python3.11/dist-packages (from requests<3,>=2.21.0->tensorflow) (2025.1.31)\n",
            "Requirement already satisfied: markdown>=2.6.8 in /usr/local/lib/python3.11/dist-packages (from tensorboard<2.19,>=2.18->tensorflow) (3.7)\n",
            "Requirement already satisfied: tensorboard-data-server<0.8.0,>=0.7.0 in /usr/local/lib/python3.11/dist-packages (from tensorboard<2.19,>=2.18->tensorflow) (0.7.2)\n",
            "Requirement already satisfied: werkzeug>=1.0.1 in /usr/local/lib/python3.11/dist-packages (from tensorboard<2.19,>=2.18->tensorflow) (3.1.3)\n",
            "Requirement already satisfied: MarkupSafe>=2.1.1 in /usr/local/lib/python3.11/dist-packages (from werkzeug>=1.0.1->tensorboard<2.19,>=2.18->tensorflow) (3.0.2)\n",
            "Requirement already satisfied: markdown-it-py>=2.2.0 in /usr/local/lib/python3.11/dist-packages (from rich->keras>=3.5.0->tensorflow) (3.0.0)\n",
            "Requirement already satisfied: pygments<3.0.0,>=2.13.0 in /usr/local/lib/python3.11/dist-packages (from rich->keras>=3.5.0->tensorflow) (2.18.0)\n",
            "Requirement already satisfied: mdurl~=0.1 in /usr/local/lib/python3.11/dist-packages (from markdown-it-py>=2.2.0->rich->keras>=3.5.0->tensorflow) (0.1.2)\n"
          ]
        }
      ]
    },
    {
      "cell_type": "markdown",
      "source": [
        "## creating a model\n",
        "model = Sequential()  \n",
        "- This line creates a Sequential model.\n",
        "- A Sequential model is a linear stack of layers in Keras, meaning the layers are added one after another in a sequence. It's the simplest way to build a neural network in Keras.\n",
        "\n"
      ],
      "metadata": {
        "id": "t-WSw8bxAHJu"
      }
    },
    {
      "cell_type": "markdown",
      "source": [
        "**model.add()**  \n",
        "This is how you add layers to your Sequential model.\n",
        "\n",
        "Dense(4, ...): This adds a Dense layer, which is a type of layer where each node is connected to every node in the previous layer.  \n",
        "\n",
        "The first argument ***4*** specifies the number of neurons (nodes) in this layer.\n",
        "Neurons process information received from the previous layer."
      ],
      "metadata": {
        "id": "5fvqxffSCzC7"
      }
    },
    {
      "cell_type": "markdown",
      "source": [
        "**input_dim=4**  \n",
        " This is specific to the input layer. It tells the layer that it should expect input data with 4 features. This matches the number of features in our dataset (after preprocessing).\n",
        "\n",
        " like we have 4 input features in bank notes"
      ],
      "metadata": {
        "id": "5dHmLQMKDiXS"
      }
    },
    {
      "cell_type": "markdown",
      "source": [
        "input_dim=4: This is specific to the input layer. It tells the layer that it should expect input data with 4 features. This matches the number of features in our dataset (after preprocessing)."
      ],
      "metadata": {
        "id": "NEgBZSNuDt2N"
      }
    },
    {
      "cell_type": "markdown",
      "source": [],
      "metadata": {
        "id": "HSZl2BDfDBbt"
      }
    },
    {
      "cell_type": "code",
      "source": [
        "model = Sequential()\n",
        "#input\n",
        "model.add(Dense(4, input_dim=4, activation='relu'))\n",
        "#mid layer or hidden layer\n",
        "model.add(Dense(8, activation='relu'))\n",
        "#output -sigmoid is 0 or 1\n",
        "model.add(Dense(1, activation='sigmoid'))"
      ],
      "metadata": {
        "colab": {
          "base_uri": "https://localhost:8080/"
        },
        "id": "yDEkGtzpAHy7",
        "outputId": "cce92584-191f-4e48-d83b-40fb07fc9590"
      },
      "execution_count": null,
      "outputs": [
        {
          "output_type": "stream",
          "name": "stderr",
          "text": [
            "/usr/local/lib/python3.11/dist-packages/keras/src/layers/core/dense.py:87: UserWarning: Do not pass an `input_shape`/`input_dim` argument to a layer. When using Sequential models, prefer using an `Input(shape)` object as the first layer in the model instead.\n",
            "  super().__init__(activity_regularizer=activity_regularizer, **kwargs)\n"
          ]
        }
      ]
    },
    {
      "cell_type": "markdown",
      "source": [],
      "metadata": {
        "id": "DOiviyOdGRaq"
      }
    },
    {
      "cell_type": "markdown",
      "source": [
        "model.compile(): This is a function in Keras that configures the model for training. Think of it as setting the rules and objectives for the learning process.\n",
        "\n",
        "loss='binary_crossentropy': This defines the loss function, which measures how well the model's predictions match the actual data during training.\n",
        "\n",
        "binary_crossentropy is a common loss function used for binary classification problems, where the goal is to predict one of two classes (in this case, real or fake banknotes).\n",
        "The model aims to minimize this loss function during training.\n",
        "\n",
        "optimizer='adam': This specifies the optimization algorithm used to update the model's weights during training.\n",
        "\n",
        "\n",
        "adam (Adaptive Moment Estimation) is a popular optimization algorithm known for its efficiency and good performance.\n",
        "It automatically adjusts the learning rate during training, making the process smoother and potentially faster.\n",
        "metrics=['accuracy']: This defines the metrics used to evaluate the model's performance.\n",
        "\n",
        "\n",
        "accuracy is a common metric that measures the percentage of correctly classified samples.\n",
        "The model's accuracy will be tracked during training and reported after each epoch (a full pass through the training data)."
      ],
      "metadata": {
        "id": "pFP1ijKLGfcZ"
      }
    },
    {
      "cell_type": "code",
      "source": [
        "model.compile( loss='binary_crossentropy', optimizer='adam', metrics=['accuracy'])"
      ],
      "metadata": {
        "id": "77UZ16BVBTbl"
      },
      "execution_count": null,
      "outputs": []
    },
    {
      "cell_type": "code",
      "source": [
        "model.fit(scaled_X_train, y_train, epochs=50, verbose=2)"
      ],
      "metadata": {
        "colab": {
          "base_uri": "https://localhost:8080/"
        },
        "collapsed": true,
        "id": "KPdTHywsFwmo",
        "outputId": "80aa7ba2-fab1-4137-a2af-e95552ce647a"
      },
      "execution_count": null,
      "outputs": [
        {
          "output_type": "stream",
          "name": "stdout",
          "text": [
            "Epoch 1/50\n",
            "29/29 - 2s - 78ms/step - accuracy: 0.5517 - loss: 0.6571\n",
            "Epoch 2/50\n",
            "29/29 - 0s - 14ms/step - accuracy: 0.5887 - loss: 0.6514\n",
            "Epoch 3/50\n",
            "29/29 - 0s - 5ms/step - accuracy: 0.6137 - loss: 0.6461\n",
            "Epoch 4/50\n",
            "29/29 - 0s - 5ms/step - accuracy: 0.6235 - loss: 0.6407\n",
            "Epoch 5/50\n",
            "29/29 - 0s - 5ms/step - accuracy: 0.6289 - loss: 0.6346\n",
            "Epoch 6/50\n",
            "29/29 - 0s - 3ms/step - accuracy: 0.6387 - loss: 0.6273\n",
            "Epoch 7/50\n",
            "29/29 - 0s - 4ms/step - accuracy: 0.6561 - loss: 0.6200\n",
            "Epoch 8/50\n",
            "29/29 - 0s - 5ms/step - accuracy: 0.6627 - loss: 0.6131\n",
            "Epoch 9/50\n",
            "29/29 - 0s - 5ms/step - accuracy: 0.6790 - loss: 0.6055\n",
            "Epoch 10/50\n",
            "29/29 - 0s - 3ms/step - accuracy: 0.6823 - loss: 0.5976\n",
            "Epoch 11/50\n",
            "29/29 - 0s - 5ms/step - accuracy: 0.6834 - loss: 0.5892\n",
            "Epoch 12/50\n",
            "29/29 - 0s - 4ms/step - accuracy: 0.6855 - loss: 0.5806\n",
            "Epoch 13/50\n",
            "29/29 - 0s - 3ms/step - accuracy: 0.6877 - loss: 0.5716\n",
            "Epoch 14/50\n",
            "29/29 - 0s - 5ms/step - accuracy: 0.6997 - loss: 0.5622\n",
            "Epoch 15/50\n",
            "29/29 - 0s - 5ms/step - accuracy: 0.7095 - loss: 0.5526\n",
            "Epoch 16/50\n",
            "29/29 - 0s - 5ms/step - accuracy: 0.7312 - loss: 0.5428\n",
            "Epoch 17/50\n",
            "29/29 - 0s - 5ms/step - accuracy: 0.7399 - loss: 0.5323\n",
            "Epoch 18/50\n",
            "29/29 - 0s - 5ms/step - accuracy: 0.7541 - loss: 0.5221\n",
            "Epoch 19/50\n",
            "29/29 - 0s - 5ms/step - accuracy: 0.7715 - loss: 0.5092\n",
            "Epoch 20/50\n",
            "29/29 - 0s - 4ms/step - accuracy: 0.7835 - loss: 0.4946\n",
            "Epoch 21/50\n",
            "29/29 - 0s - 5ms/step - accuracy: 0.7976 - loss: 0.4801\n",
            "Epoch 22/50\n",
            "29/29 - 0s - 5ms/step - accuracy: 0.8194 - loss: 0.4643\n",
            "Epoch 23/50\n",
            "29/29 - 0s - 5ms/step - accuracy: 0.8324 - loss: 0.4486\n",
            "Epoch 24/50\n",
            "29/29 - 0s - 5ms/step - accuracy: 0.8487 - loss: 0.4310\n",
            "Epoch 25/50\n",
            "29/29 - 0s - 3ms/step - accuracy: 0.8531 - loss: 0.4138\n",
            "Epoch 26/50\n",
            "29/29 - 0s - 5ms/step - accuracy: 0.8792 - loss: 0.3962\n",
            "Epoch 27/50\n",
            "29/29 - 0s - 4ms/step - accuracy: 0.8879 - loss: 0.3792\n",
            "Epoch 28/50\n",
            "29/29 - 0s - 4ms/step - accuracy: 0.8912 - loss: 0.3629\n",
            "Epoch 29/50\n",
            "29/29 - 0s - 5ms/step - accuracy: 0.9032 - loss: 0.3469\n",
            "Epoch 30/50\n",
            "29/29 - 0s - 3ms/step - accuracy: 0.9184 - loss: 0.3322\n",
            "Epoch 31/50\n",
            "29/29 - 0s - 3ms/step - accuracy: 0.9206 - loss: 0.3176\n",
            "Epoch 32/50\n",
            "29/29 - 0s - 3ms/step - accuracy: 0.9314 - loss: 0.3029\n",
            "Epoch 33/50\n",
            "29/29 - 0s - 3ms/step - accuracy: 0.9402 - loss: 0.2901\n",
            "Epoch 34/50\n",
            "29/29 - 0s - 3ms/step - accuracy: 0.9456 - loss: 0.2773\n",
            "Epoch 35/50\n",
            "29/29 - 0s - 5ms/step - accuracy: 0.9478 - loss: 0.2657\n",
            "Epoch 36/50\n",
            "29/29 - 0s - 5ms/step - accuracy: 0.9510 - loss: 0.2542\n",
            "Epoch 37/50\n",
            "29/29 - 0s - 5ms/step - accuracy: 0.9532 - loss: 0.2441\n",
            "Epoch 38/50\n",
            "29/29 - 0s - 4ms/step - accuracy: 0.9532 - loss: 0.2337\n",
            "Epoch 39/50\n",
            "29/29 - 0s - 4ms/step - accuracy: 0.9565 - loss: 0.2242\n",
            "Epoch 40/50\n",
            "29/29 - 0s - 3ms/step - accuracy: 0.9576 - loss: 0.2152\n",
            "Epoch 41/50\n",
            "29/29 - 0s - 5ms/step - accuracy: 0.9597 - loss: 0.2068\n",
            "Epoch 42/50\n",
            "29/29 - 0s - 5ms/step - accuracy: 0.9543 - loss: 0.1995\n",
            "Epoch 43/50\n",
            "29/29 - 0s - 5ms/step - accuracy: 0.9641 - loss: 0.1905\n",
            "Epoch 44/50\n",
            "29/29 - 0s - 5ms/step - accuracy: 0.9608 - loss: 0.1850\n",
            "Epoch 45/50\n",
            "29/29 - 0s - 5ms/step - accuracy: 0.9597 - loss: 0.1770\n",
            "Epoch 46/50\n",
            "29/29 - 0s - 3ms/step - accuracy: 0.9587 - loss: 0.1707\n",
            "Epoch 47/50\n",
            "29/29 - 0s - 5ms/step - accuracy: 0.9619 - loss: 0.1644\n",
            "Epoch 48/50\n",
            "29/29 - 0s - 5ms/step - accuracy: 0.9597 - loss: 0.1590\n",
            "Epoch 49/50\n",
            "29/29 - 0s - 5ms/step - accuracy: 0.9641 - loss: 0.1537\n",
            "Epoch 50/50\n",
            "29/29 - 0s - 5ms/step - accuracy: 0.9630 - loss: 0.1489\n"
          ]
        },
        {
          "output_type": "execute_result",
          "data": {
            "text/plain": [
              "<keras.src.callbacks.history.History at 0x7de79c2d6ed0>"
            ]
          },
          "metadata": {},
          "execution_count": 31
        }
      ]
    },
    {
      "cell_type": "code",
      "source": [
        "model.metrics_names"
      ],
      "metadata": {
        "colab": {
          "base_uri": "https://localhost:8080/"
        },
        "id": "xlKCbRS4G1Xl",
        "outputId": "7ede6068-dc1f-48c6-936a-ab3fa4b364a5"
      },
      "execution_count": null,
      "outputs": [
        {
          "output_type": "execute_result",
          "data": {
            "text/plain": [
              "['loss', 'compile_metrics']"
            ]
          },
          "metadata": {},
          "execution_count": 32
        }
      ]
    },
    {
      "cell_type": "code",
      "source": [
        "from sklearn.metrics import confusion_matrix, classification_report"
      ],
      "metadata": {
        "id": "ENSlJ0AMHu97"
      },
      "execution_count": null,
      "outputs": []
    },
    {
      "cell_type": "code",
      "source": [
        "predictions = (model.predict(scaled_X_test) > 0.5).astype(\"int32\")\n",
        "# Use model.predict and convert probabilities to class labels (0 or 1).\n",
        "# Values above 0.5 will be assigned to class 1 and below will to 0."
      ],
      "metadata": {
        "colab": {
          "base_uri": "https://localhost:8080/"
        },
        "id": "5bCuOoshH_HP",
        "outputId": "78ae659b-d195-405a-8332-936c51748899"
      },
      "execution_count": null,
      "outputs": [
        {
          "output_type": "stream",
          "name": "stdout",
          "text": [
            "\u001b[1m15/15\u001b[0m \u001b[32m━━━━━━━━━━━━━━━━━━━━\u001b[0m\u001b[37m\u001b[0m \u001b[1m0s\u001b[0m 5ms/step\n"
          ]
        }
      ]
    },
    {
      "cell_type": "code",
      "source": [
        "confusion_matrix_result= confusion_matrix(y_test, predictions)\n",
        "print(confusion_matrix)"
      ],
      "metadata": {
        "colab": {
          "base_uri": "https://localhost:8080/"
        },
        "id": "s2_l-8RIIus_",
        "outputId": "8feeae97-32cd-477d-ce46-4cf6a197f893"
      },
      "execution_count": null,
      "outputs": [
        {
          "output_type": "stream",
          "name": "stdout",
          "text": [
            "[[256   1]\n",
            " [ 10 186]]\n"
          ]
        }
      ]
    },
    {
      "cell_type": "code",
      "source": [
        "print(classification_report(y_test, predictions))"
      ],
      "metadata": {
        "colab": {
          "base_uri": "https://localhost:8080/"
        },
        "id": "qW41RCQ5JOqN",
        "outputId": "6bec6dc3-fe8c-45ad-cf35-8ab231a808a7"
      },
      "execution_count": null,
      "outputs": [
        {
          "output_type": "stream",
          "name": "stdout",
          "text": [
            "              precision    recall  f1-score   support\n",
            "\n",
            "         0.0       0.96      1.00      0.98       257\n",
            "         1.0       0.99      0.95      0.97       196\n",
            "\n",
            "    accuracy                           0.98       453\n",
            "   macro avg       0.98      0.97      0.98       453\n",
            "weighted avg       0.98      0.98      0.98       453\n",
            "\n"
          ]
        }
      ]
    },
    {
      "cell_type": "markdown",
      "source": [
        "## saving and using the model"
      ],
      "metadata": {
        "id": "_ikgIKeoMJGn"
      }
    },
    {
      "cell_type": "code",
      "source": [
        "model.save(\"superModel.h5\")"
      ],
      "metadata": {
        "colab": {
          "base_uri": "https://localhost:8080/"
        },
        "id": "6m_onfRUKFLm",
        "outputId": "122e9ef9-2627-46b0-a9c9-8a8ef4ba5cb9"
      },
      "execution_count": null,
      "outputs": [
        {
          "output_type": "stream",
          "name": "stderr",
          "text": [
            "WARNING:absl:You are saving your model as an HDF5 file via `model.save()` or `keras.saving.save_model(model)`. This file format is considered legacy. We recommend using instead the native Keras format, e.g. `model.save('my_model.keras')` or `keras.saving.save_model(model, 'my_model.keras')`. \n"
          ]
        }
      ]
    },
    {
      "cell_type": "code",
      "source": [
        "from keras.models import load_model\n",
        "newModel= load_model(\"superModel.h5\")"
      ],
      "metadata": {
        "colab": {
          "base_uri": "https://localhost:8080/"
        },
        "id": "Q44s_AUGMel1",
        "outputId": "0a09bdc7-3e65-485d-e14c-e80ed0119231"
      },
      "execution_count": null,
      "outputs": [
        {
          "output_type": "stream",
          "name": "stderr",
          "text": [
            "WARNING:absl:Compiled the loaded model, but the compiled metrics have yet to be built. `model.compile_metrics` will be empty until you train or evaluate the model.\n"
          ]
        }
      ]
    },
    {
      "cell_type": "code",
      "source": [
        "newModel.predict(scaled_X_test)"
      ],
      "metadata": {
        "colab": {
          "base_uri": "https://localhost:8080/"
        },
        "id": "hpsdUUPXMgjg",
        "outputId": "547c45ae-4c3f-451a-f200-88d2fd4f99d1",
        "collapsed": true
      },
      "execution_count": null,
      "outputs": [
        {
          "output_type": "stream",
          "name": "stdout",
          "text": [
            "\u001b[1m15/15\u001b[0m \u001b[32m━━━━━━━━━━━━━━━━━━━━\u001b[0m\u001b[37m\u001b[0m \u001b[1m0s\u001b[0m 4ms/step \n"
          ]
        },
        {
          "output_type": "execute_result",
          "data": {
            "text/plain": [
              "array([[5.04086018e-02],\n",
              "       [4.29818720e-01],\n",
              "       [2.74152845e-01],\n",
              "       [4.06032912e-02],\n",
              "       [4.39084619e-02],\n",
              "       [2.58217417e-02],\n",
              "       [1.29728004e-01],\n",
              "       [1.19485296e-02],\n",
              "       [3.77455838e-02],\n",
              "       [8.14055577e-02],\n",
              "       [5.73917389e-01],\n",
              "       [8.71387362e-01],\n",
              "       [1.04014464e-01],\n",
              "       [8.06159019e-01],\n",
              "       [3.68860602e-01],\n",
              "       [3.74738663e-01],\n",
              "       [8.98062706e-01],\n",
              "       [9.06712413e-01],\n",
              "       [8.21819723e-01],\n",
              "       [8.04088354e-01],\n",
              "       [2.62775812e-02],\n",
              "       [5.62069602e-02],\n",
              "       [8.30556870e-01],\n",
              "       [1.77518073e-02],\n",
              "       [9.28580523e-01],\n",
              "       [2.16764901e-02],\n",
              "       [1.10921143e-02],\n",
              "       [8.54937613e-01],\n",
              "       [9.40868573e-04],\n",
              "       [3.32959439e-03],\n",
              "       [8.10911655e-01],\n",
              "       [7.92732835e-02],\n",
              "       [1.27947658e-01],\n",
              "       [9.28932071e-01],\n",
              "       [9.21355128e-01],\n",
              "       [1.02924081e-02],\n",
              "       [5.41776538e-01],\n",
              "       [8.24389577e-01],\n",
              "       [8.89250398e-01],\n",
              "       [6.59367070e-02],\n",
              "       [4.04522717e-02],\n",
              "       [8.00155044e-01],\n",
              "       [8.23276341e-01],\n",
              "       [3.22449468e-02],\n",
              "       [9.23800468e-01],\n",
              "       [8.44561875e-01],\n",
              "       [9.16733205e-01],\n",
              "       [4.51360159e-02],\n",
              "       [4.15430553e-02],\n",
              "       [4.35818106e-01],\n",
              "       [4.72628362e-02],\n",
              "       [1.09612141e-02],\n",
              "       [6.98311180e-02],\n",
              "       [1.61273032e-02],\n",
              "       [2.30383068e-01],\n",
              "       [7.75861979e-01],\n",
              "       [8.28469247e-02],\n",
              "       [8.39678850e-03],\n",
              "       [2.82747038e-02],\n",
              "       [1.38574941e-02],\n",
              "       [9.21822190e-01],\n",
              "       [4.54100482e-02],\n",
              "       [4.38513905e-01],\n",
              "       [6.46169949e-03],\n",
              "       [5.89136742e-02],\n",
              "       [1.02728652e-02],\n",
              "       [2.63616387e-02],\n",
              "       [7.60965869e-02],\n",
              "       [4.19908792e-01],\n",
              "       [4.23664480e-01],\n",
              "       [7.92421818e-01],\n",
              "       [2.63878200e-02],\n",
              "       [7.70889878e-01],\n",
              "       [4.65750555e-03],\n",
              "       [7.78990030e-01],\n",
              "       [4.77255166e-01],\n",
              "       [3.89275029e-02],\n",
              "       [8.73775542e-01],\n",
              "       [9.11452234e-01],\n",
              "       [7.16045856e-01],\n",
              "       [7.03231633e-01],\n",
              "       [2.41215229e-01],\n",
              "       [5.43657780e-01],\n",
              "       [2.36456878e-02],\n",
              "       [1.19823411e-01],\n",
              "       [2.81754229e-03],\n",
              "       [3.67417559e-02],\n",
              "       [9.23444390e-01],\n",
              "       [3.02730888e-01],\n",
              "       [6.65091500e-02],\n",
              "       [2.20289063e-02],\n",
              "       [3.08985095e-02],\n",
              "       [7.20986843e-01],\n",
              "       [8.19492877e-01],\n",
              "       [3.52922156e-02],\n",
              "       [9.04041350e-01],\n",
              "       [9.27122474e-01],\n",
              "       [1.38093233e-01],\n",
              "       [2.63753161e-02],\n",
              "       [1.19468816e-01],\n",
              "       [9.11732912e-01],\n",
              "       [2.74280440e-02],\n",
              "       [1.40008628e-01],\n",
              "       [6.07198365e-02],\n",
              "       [9.29853618e-01],\n",
              "       [1.16917184e-02],\n",
              "       [4.95670252e-02],\n",
              "       [5.12474418e-01],\n",
              "       [8.65585446e-01],\n",
              "       [8.07350874e-01],\n",
              "       [9.07923996e-01],\n",
              "       [7.08277285e-01],\n",
              "       [1.21677155e-02],\n",
              "       [9.19741333e-01],\n",
              "       [8.50636721e-01],\n",
              "       [9.23017263e-01],\n",
              "       [5.32179791e-03],\n",
              "       [9.27969933e-01],\n",
              "       [8.80387306e-01],\n",
              "       [2.06696857e-02],\n",
              "       [8.08307767e-01],\n",
              "       [7.19013661e-02],\n",
              "       [6.25077903e-01],\n",
              "       [1.58149172e-02],\n",
              "       [2.40920395e-01],\n",
              "       [1.11072943e-01],\n",
              "       [9.18968737e-01],\n",
              "       [7.98468471e-01],\n",
              "       [8.56708884e-02],\n",
              "       [8.97741377e-01],\n",
              "       [9.25873637e-01],\n",
              "       [5.40634580e-02],\n",
              "       [8.05796832e-02],\n",
              "       [4.32898737e-02],\n",
              "       [4.36870521e-03],\n",
              "       [6.81067482e-02],\n",
              "       [8.96552026e-01],\n",
              "       [2.76934891e-03],\n",
              "       [1.09626040e-01],\n",
              "       [7.44520366e-01],\n",
              "       [3.83953229e-02],\n",
              "       [5.44336848e-02],\n",
              "       [9.07671928e-01],\n",
              "       [3.01192328e-02],\n",
              "       [6.65560484e-01],\n",
              "       [2.37031296e-01],\n",
              "       [3.71496886e-01],\n",
              "       [5.76575220e-01],\n",
              "       [6.72059894e-01],\n",
              "       [2.67293081e-02],\n",
              "       [5.42223155e-01],\n",
              "       [8.69139493e-01],\n",
              "       [8.70766938e-01],\n",
              "       [1.89565867e-03],\n",
              "       [7.29413807e-01],\n",
              "       [1.31594958e-02],\n",
              "       [7.85275519e-01],\n",
              "       [9.81399938e-02],\n",
              "       [7.49434084e-02],\n",
              "       [6.77985847e-02],\n",
              "       [9.26153421e-01],\n",
              "       [9.19569552e-01],\n",
              "       [9.16282833e-01],\n",
              "       [9.12265182e-01],\n",
              "       [7.78675079e-01],\n",
              "       [2.45653018e-02],\n",
              "       [9.16931331e-01],\n",
              "       [2.73759160e-02],\n",
              "       [9.20094363e-03],\n",
              "       [4.78165820e-02],\n",
              "       [2.70248979e-01],\n",
              "       [2.20715515e-02],\n",
              "       [6.87476173e-02],\n",
              "       [9.18976665e-01],\n",
              "       [3.64165306e-02],\n",
              "       [4.63125817e-02],\n",
              "       [9.08092976e-01],\n",
              "       [9.27843034e-01],\n",
              "       [1.75558656e-01],\n",
              "       [9.79145803e-03],\n",
              "       [1.44599125e-01],\n",
              "       [6.03265762e-02],\n",
              "       [9.20620024e-01],\n",
              "       [4.68894243e-02],\n",
              "       [9.20681059e-01],\n",
              "       [3.66508551e-02],\n",
              "       [8.09475482e-01],\n",
              "       [8.88243556e-01],\n",
              "       [9.52904113e-03],\n",
              "       [4.63768505e-02],\n",
              "       [9.04682159e-01],\n",
              "       [2.80292034e-02],\n",
              "       [1.26381278e-01],\n",
              "       [9.26747203e-01],\n",
              "       [9.04107034e-01],\n",
              "       [8.73952806e-01],\n",
              "       [7.74665475e-01],\n",
              "       [2.65340865e-01],\n",
              "       [3.76611412e-01],\n",
              "       [9.19715881e-01],\n",
              "       [9.30585742e-01],\n",
              "       [9.18235302e-01],\n",
              "       [4.12767045e-02],\n",
              "       [6.15775250e-02],\n",
              "       [9.09255505e-01],\n",
              "       [9.25683141e-01],\n",
              "       [9.21359360e-01],\n",
              "       [7.19841063e-01],\n",
              "       [2.13991508e-01],\n",
              "       [2.84964144e-02],\n",
              "       [4.68859434e-01],\n",
              "       [7.19039096e-03],\n",
              "       [1.06914610e-01],\n",
              "       [1.55464128e-01],\n",
              "       [1.23330727e-02],\n",
              "       [8.68879166e-03],\n",
              "       [4.77255166e-01],\n",
              "       [8.10069814e-02],\n",
              "       [9.25836444e-01],\n",
              "       [8.60122263e-01],\n",
              "       [8.83521676e-01],\n",
              "       [9.15968776e-01],\n",
              "       [9.08598661e-01],\n",
              "       [4.84834053e-02],\n",
              "       [8.32499206e-01],\n",
              "       [1.54137230e-02],\n",
              "       [8.89820382e-02],\n",
              "       [9.20225441e-01],\n",
              "       [8.35286200e-01],\n",
              "       [9.12920475e-01],\n",
              "       [9.02738631e-01],\n",
              "       [6.62996545e-02],\n",
              "       [7.14026809e-01],\n",
              "       [4.78446251e-03],\n",
              "       [7.90444493e-01],\n",
              "       [9.26704228e-01],\n",
              "       [8.17318201e-01],\n",
              "       [9.14984405e-01],\n",
              "       [5.85294440e-02],\n",
              "       [4.01705764e-02],\n",
              "       [2.07270235e-01],\n",
              "       [8.53343308e-01],\n",
              "       [3.92189361e-02],\n",
              "       [9.19345081e-01],\n",
              "       [8.65562618e-01],\n",
              "       [9.20490146e-01],\n",
              "       [5.25220893e-02],\n",
              "       [3.38064656e-02],\n",
              "       [1.83292348e-02],\n",
              "       [5.11215962e-02],\n",
              "       [2.94371578e-03],\n",
              "       [4.95192595e-02],\n",
              "       [9.21901047e-01],\n",
              "       [2.83563644e-01],\n",
              "       [1.93175942e-01],\n",
              "       [4.14313152e-02],\n",
              "       [2.15638746e-02],\n",
              "       [2.97482908e-02],\n",
              "       [9.18086588e-01],\n",
              "       [9.11402524e-01],\n",
              "       [4.27165218e-02],\n",
              "       [1.07357167e-01],\n",
              "       [2.22962461e-02],\n",
              "       [9.08107579e-01],\n",
              "       [7.73230314e-01],\n",
              "       [3.00689898e-02],\n",
              "       [8.76268864e-01],\n",
              "       [4.69916798e-02],\n",
              "       [9.26125526e-01],\n",
              "       [8.29588711e-01],\n",
              "       [9.14499700e-01],\n",
              "       [6.59627557e-01],\n",
              "       [6.30822852e-02],\n",
              "       [4.29813743e-01],\n",
              "       [8.89078155e-03],\n",
              "       [2.82603689e-02],\n",
              "       [3.99721228e-02],\n",
              "       [9.00630891e-01],\n",
              "       [1.16105247e-02],\n",
              "       [1.51904523e-01],\n",
              "       [9.24623668e-01],\n",
              "       [5.77162253e-03],\n",
              "       [9.15545881e-01],\n",
              "       [9.33865551e-03],\n",
              "       [4.84355874e-02],\n",
              "       [8.89766753e-01],\n",
              "       [8.05709790e-03],\n",
              "       [5.50882667e-02],\n",
              "       [1.54268034e-02],\n",
              "       [1.22853786e-01],\n",
              "       [3.36912423e-02],\n",
              "       [9.29384530e-01],\n",
              "       [9.26476181e-01],\n",
              "       [4.75289710e-02],\n",
              "       [9.15804744e-01],\n",
              "       [3.86675261e-02],\n",
              "       [7.92212903e-01],\n",
              "       [9.24478590e-01],\n",
              "       [4.37493389e-03],\n",
              "       [4.68855083e-01],\n",
              "       [1.02725565e-01],\n",
              "       [8.76977481e-03],\n",
              "       [3.04540619e-02],\n",
              "       [5.36827967e-02],\n",
              "       [5.59796207e-02],\n",
              "       [8.64232004e-01],\n",
              "       [9.18034017e-01],\n",
              "       [9.07692373e-01],\n",
              "       [2.70914976e-02],\n",
              "       [3.78253660e-03],\n",
              "       [7.86564410e-01],\n",
              "       [7.97960997e-01],\n",
              "       [2.42786314e-02],\n",
              "       [1.33388862e-01],\n",
              "       [8.29620436e-02],\n",
              "       [4.43886546e-03],\n",
              "       [8.49782974e-02],\n",
              "       [5.98083586e-02],\n",
              "       [9.18817103e-01],\n",
              "       [8.86120647e-02],\n",
              "       [9.08945441e-01],\n",
              "       [7.04292297e-01],\n",
              "       [9.17278588e-01],\n",
              "       [6.62041083e-02],\n",
              "       [1.11666508e-02],\n",
              "       [2.98081618e-02],\n",
              "       [2.13831477e-03],\n",
              "       [7.33753026e-01],\n",
              "       [1.34189829e-01],\n",
              "       [2.21931934e-03],\n",
              "       [4.52413037e-02],\n",
              "       [6.56514093e-02],\n",
              "       [1.29638866e-01],\n",
              "       [6.17166162e-02],\n",
              "       [1.55872136e-01],\n",
              "       [9.16568577e-01],\n",
              "       [1.52536899e-01],\n",
              "       [7.00421154e-01],\n",
              "       [9.31310952e-01],\n",
              "       [7.31570005e-01],\n",
              "       [9.06074107e-01],\n",
              "       [2.11213008e-02],\n",
              "       [8.23090136e-01],\n",
              "       [9.24052596e-01],\n",
              "       [2.25853398e-02],\n",
              "       [8.96250546e-01],\n",
              "       [7.96277463e-01],\n",
              "       [3.43175009e-02],\n",
              "       [9.72155556e-02],\n",
              "       [6.84613109e-01],\n",
              "       [1.02319345e-01],\n",
              "       [2.23771445e-02],\n",
              "       [8.49049985e-01],\n",
              "       [7.15320781e-02],\n",
              "       [9.09849644e-01],\n",
              "       [8.51058867e-03],\n",
              "       [8.76844764e-01],\n",
              "       [8.70103657e-01],\n",
              "       [1.39550213e-02],\n",
              "       [1.83766410e-02],\n",
              "       [9.04111922e-01],\n",
              "       [8.26921389e-02],\n",
              "       [1.06676586e-01],\n",
              "       [8.52698162e-02],\n",
              "       [2.11902685e-03],\n",
              "       [4.00905497e-03],\n",
              "       [4.71258536e-02],\n",
              "       [9.03612971e-01],\n",
              "       [9.18984041e-02],\n",
              "       [4.78367060e-02],\n",
              "       [9.27548468e-01],\n",
              "       [4.52970445e-01],\n",
              "       [5.73080108e-02],\n",
              "       [1.67015731e-01],\n",
              "       [3.26928943e-02],\n",
              "       [8.55538011e-01],\n",
              "       [8.94622743e-01],\n",
              "       [3.18489857e-02],\n",
              "       [9.10227954e-01],\n",
              "       [2.59519536e-02],\n",
              "       [9.18746710e-01],\n",
              "       [8.08011293e-01],\n",
              "       [7.23114192e-01],\n",
              "       [4.47675325e-02],\n",
              "       [8.68771613e-01],\n",
              "       [3.45669448e-01],\n",
              "       [4.86119278e-02],\n",
              "       [9.23931062e-01],\n",
              "       [9.06474829e-01],\n",
              "       [2.17410699e-02],\n",
              "       [8.86979699e-01],\n",
              "       [5.15551716e-02],\n",
              "       [5.21431454e-02],\n",
              "       [6.57323226e-02],\n",
              "       [9.21221018e-01],\n",
              "       [8.94287586e-01],\n",
              "       [5.79905689e-01],\n",
              "       [2.05576960e-02],\n",
              "       [1.09936975e-01],\n",
              "       [4.09827055e-03],\n",
              "       [4.01891619e-02],\n",
              "       [8.86028469e-01],\n",
              "       [3.73906344e-02],\n",
              "       [1.83604676e-02],\n",
              "       [9.20536280e-01],\n",
              "       [8.15413773e-01],\n",
              "       [8.01776350e-01],\n",
              "       [8.91540468e-01],\n",
              "       [5.59493154e-02],\n",
              "       [8.56846213e-01],\n",
              "       [5.40093966e-02],\n",
              "       [5.34936264e-02],\n",
              "       [8.35974097e-01],\n",
              "       [5.88308096e-01],\n",
              "       [9.93319154e-02],\n",
              "       [8.54976654e-01],\n",
              "       [1.57786265e-01],\n",
              "       [7.72574365e-01],\n",
              "       [4.90436256e-02],\n",
              "       [1.82404146e-02],\n",
              "       [1.72386207e-02],\n",
              "       [9.22546506e-01],\n",
              "       [7.18682110e-01],\n",
              "       [1.34788333e-02],\n",
              "       [5.35078123e-02],\n",
              "       [4.57541272e-02],\n",
              "       [9.17912364e-01],\n",
              "       [2.18702294e-02],\n",
              "       [4.30615954e-02],\n",
              "       [9.14630949e-01],\n",
              "       [1.76836010e-02],\n",
              "       [5.85087761e-03],\n",
              "       [4.47953232e-02],\n",
              "       [3.02990433e-02],\n",
              "       [8.49469781e-01],\n",
              "       [1.21408468e-02],\n",
              "       [8.89180183e-01],\n",
              "       [7.71716877e-04],\n",
              "       [4.68855083e-01],\n",
              "       [8.92411113e-01],\n",
              "       [2.18725689e-02],\n",
              "       [4.92173396e-02],\n",
              "       [5.38474768e-02],\n",
              "       [9.94722941e-04],\n",
              "       [1.09286082e-03],\n",
              "       [1.94282047e-02],\n",
              "       [8.74450862e-01],\n",
              "       [7.47289598e-01],\n",
              "       [6.60627931e-02],\n",
              "       [3.46693657e-02],\n",
              "       [2.51607727e-02],\n",
              "       [9.73885588e-04],\n",
              "       [1.44599140e-01]], dtype=float32)"
            ]
          },
          "metadata": {},
          "execution_count": 49
        }
      ]
    }
  ]
}