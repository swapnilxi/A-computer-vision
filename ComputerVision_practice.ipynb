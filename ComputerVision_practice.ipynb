{
  "nbformat": 4,
  "nbformat_minor": 0,
  "metadata": {
    "colab": {
      "provenance": [],
      "toc_visible": true,
      "authorship_tag": "ABX9TyPu0Uv68FLrrD/ldRNuDK+Y",
      "include_colab_link": true
    },
    "kernelspec": {
      "name": "python3",
      "display_name": "Python 3"
    },
    "language_info": {
      "name": "python"
    }
  },
  "cells": [
    {
      "cell_type": "markdown",
      "metadata": {
        "id": "view-in-github",
        "colab_type": "text"
      },
      "source": [
        "<a href=\"https://colab.research.google.com/github/swapnilxi/computer-vision/blob/main/ComputerVision_practice.ipynb\" target=\"_parent\"><img src=\"https://colab.research.google.com/assets/colab-badge.svg\" alt=\"Open In Colab\"/></a>"
      ]
    },
    {
      "cell_type": "markdown",
      "source": [
        "# Numpy"
      ],
      "metadata": {
        "id": "qdKLl6yXJduB"
      }
    },
    {
      "cell_type": "code",
      "execution_count": null,
      "metadata": {
        "id": "vMJStT0VA2hh",
        "colab": {
          "base_uri": "https://localhost:8080/"
        },
        "outputId": "8a0648f3-10af-4de1-8f59-722382f71285"
      },
      "outputs": [
        {
          "output_type": "stream",
          "name": "stdout",
          "text": [
            "Requirement already satisfied: numpy in /usr/local/lib/python3.11/dist-packages (1.26.4)\n"
          ]
        }
      ],
      "source": [
        "# prompt: install and import numpy\n",
        "\n",
        "pip install numpy\n",
        "import numpy as np\n"
      ]
    },
    {
      "cell_type": "markdown",
      "source": [
        "## List and Numpy Arrays"
      ],
      "metadata": {
        "id": "zJULEcAaKDEp"
      }
    },
    {
      "cell_type": "markdown",
      "source": [
        "### type of array and converting to numpy"
      ],
      "metadata": {
        "id": "h8qksLGMLA2G"
      }
    },
    {
      "cell_type": "code",
      "source": [
        "myList = [1,2,3]\n",
        "type(myList)"
      ],
      "metadata": {
        "colab": {
          "base_uri": "https://localhost:8080/"
        },
        "id": "JggK0mCJJ4sN",
        "outputId": "3d76d7d0-c36c-431d-b6b8-4757a785df9c"
      },
      "execution_count": null,
      "outputs": [
        {
          "output_type": "execute_result",
          "data": {
            "text/plain": [
              "list"
            ]
          },
          "metadata": {},
          "execution_count": 3
        }
      ]
    },
    {
      "cell_type": "code",
      "source": [
        "myArray= np.array(myList)\n"
      ],
      "metadata": {
        "id": "cVvL36-_KCGP"
      },
      "execution_count": null,
      "outputs": []
    },
    {
      "cell_type": "code",
      "source": [
        "type(myArray)"
      ],
      "metadata": {
        "colab": {
          "base_uri": "https://localhost:8080/"
        },
        "id": "tDPgqgU4KZo2",
        "outputId": "d8b373b8-0fc1-481d-b258-51d1f95e94c2"
      },
      "execution_count": null,
      "outputs": [
        {
          "output_type": "execute_result",
          "data": {
            "text/plain": [
              "numpy.ndarray"
            ]
          },
          "metadata": {},
          "execution_count": 8
        }
      ]
    },
    {
      "cell_type": "markdown",
      "source": [
        "### Arranging the numpy Array"
      ],
      "metadata": {
        "id": "omRq41eAK-VG"
      }
    },
    {
      "cell_type": "markdown",
      "source": [
        "syntax: np.arange([start,] stop[, step,], dtype=None)"
      ],
      "metadata": {
        "id": "ODFqUZ5HMvSk"
      }
    },
    {
      "cell_type": "markdown",
      "source": [
        "dtype: The type of the output array. If not provided, it is inferred from the other arguments."
      ],
      "metadata": {
        "id": "Jdzi0NnGM5Dk"
      }
    },
    {
      "cell_type": "code",
      "source": [
        "np.arange(0,10)"
      ],
      "metadata": {
        "colab": {
          "base_uri": "https://localhost:8080/"
        },
        "id": "crzuqNkwK4WY",
        "outputId": "9389f4a0-cde1-48dc-fb70-27040442c852"
      },
      "execution_count": null,
      "outputs": [
        {
          "output_type": "execute_result",
          "data": {
            "text/plain": [
              "array([0, 1, 2, 3, 4, 5, 6, 7, 8, 9])"
            ]
          },
          "metadata": {},
          "execution_count": 11
        }
      ]
    },
    {
      "cell_type": "code",
      "source": [
        "np.arange(0,10,2)"
      ],
      "metadata": {
        "colab": {
          "base_uri": "https://localhost:8080/"
        },
        "id": "Pi1CK56hLxyb",
        "outputId": "1dbdfc4c-01a4-4e39-ca05-5faed379c3fc"
      },
      "execution_count": null,
      "outputs": [
        {
          "output_type": "execute_result",
          "data": {
            "text/plain": [
              "array([0, 2, 4, 6, 8])"
            ]
          },
          "metadata": {},
          "execution_count": 12
        }
      ]
    },
    {
      "cell_type": "markdown",
      "source": [
        "**zeros**"
      ],
      "metadata": {
        "id": "T5wzuWNwO4cb"
      }
    },
    {
      "cell_type": "markdown",
      "source": [
        "numpy.zeros(shape, dtype=float, order='C') -  rows and columns"
      ],
      "metadata": {
        "id": "c8zaASUAN5S5"
      }
    },
    {
      "cell_type": "code",
      "source": [
        "np.zeros(shape=(2,3))"
      ],
      "metadata": {
        "colab": {
          "base_uri": "https://localhost:8080/"
        },
        "id": "HPy8qkciNHSx",
        "outputId": "190d98e9-9c48-4edd-97f7-09ab046268cd"
      },
      "execution_count": null,
      "outputs": [
        {
          "output_type": "execute_result",
          "data": {
            "text/plain": [
              "array([[0., 0., 0.],\n",
              "       [0., 0., 0.]])"
            ]
          },
          "metadata": {},
          "execution_count": 19
        }
      ]
    },
    {
      "cell_type": "markdown",
      "source": [
        "**ones**"
      ],
      "metadata": {
        "id": "CEwO7IhFOgMw"
      }
    },
    {
      "cell_type": "code",
      "source": [
        "np.ones(shape=(2,3))"
      ],
      "metadata": {
        "colab": {
          "base_uri": "https://localhost:8080/"
        },
        "id": "MFVWdeUHOloi",
        "outputId": "1d2b81cc-dea9-4fd7-ce5f-3816cae18b73"
      },
      "execution_count": null,
      "outputs": [
        {
          "output_type": "execute_result",
          "data": {
            "text/plain": [
              "array([[1., 1., 1.],\n",
              "       [1., 1., 1.]])"
            ]
          },
          "metadata": {},
          "execution_count": 20
        }
      ]
    },
    {
      "cell_type": "markdown",
      "source": [
        "dtype"
      ],
      "metadata": {
        "id": "lyfbxCkzN1OP"
      }
    },
    {
      "cell_type": "code",
      "source": [
        "array = np.arange(0, 2.1, 0.5, dtype=float)\n",
        "print(array)"
      ],
      "metadata": {
        "colab": {
          "base_uri": "https://localhost:8080/"
        },
        "id": "s7YOQo9PNFiA",
        "outputId": "a92d1014-d8e0-4d87-af02-18647ae63da3"
      },
      "execution_count": null,
      "outputs": [
        {
          "output_type": "stream",
          "name": "stdout",
          "text": [
            "[0.  0.5 1.  1.5 2. ]\n"
          ]
        }
      ]
    },
    {
      "cell_type": "markdown",
      "source": [
        "#### creating same random number every time - using seed\n",
        "syntax: numpy.random.randint(low, high=None, size=None, dtype=int)"
      ],
      "metadata": {
        "id": "JXS5DfQaPa2W"
      }
    },
    {
      "cell_type": "code",
      "source": [
        "np.random.seed(102)\n",
        "random_integers = np.random.randint(0,  100, 10)\n",
        "print(\"Random integers:\", random_integers)"
      ],
      "metadata": {
        "colab": {
          "base_uri": "https://localhost:8080/"
        },
        "id": "KW8N5bEOPaQI",
        "outputId": "55e03376-f151-4a80-d657-bbe7139a3c54"
      },
      "execution_count": null,
      "outputs": [
        {
          "output_type": "stream",
          "name": "stdout",
          "text": [
            "Random integers: [ 0 78 66 73 72 45 72 73 79  7]\n"
          ]
        }
      ]
    },
    {
      "cell_type": "code",
      "source": [
        "arr = random_integers\n",
        "arr"
      ],
      "metadata": {
        "colab": {
          "base_uri": "https://localhost:8080/"
        },
        "id": "1B8I8NL4RB0i",
        "outputId": "c5dc4015-3da8-4e2b-a4f6-fcdaa86292b0"
      },
      "execution_count": null,
      "outputs": [
        {
          "output_type": "execute_result",
          "data": {
            "text/plain": [
              "array([ 0, 78, 66, 73, 72, 45, 72, 73, 79,  7])"
            ]
          },
          "metadata": {},
          "execution_count": 41
        }
      ]
    },
    {
      "cell_type": "markdown",
      "source": [
        "*"
      ],
      "metadata": {
        "id": "Fyxt8B3tQ9Mf"
      }
    },
    {
      "cell_type": "code",
      "source": [
        "arr.max()"
      ],
      "metadata": {
        "colab": {
          "base_uri": "https://localhost:8080/"
        },
        "id": "BMVvAUhSQ8xG",
        "outputId": "4058c2fe-bd9f-4fce-fd34-b93cea51702f"
      },
      "execution_count": null,
      "outputs": [
        {
          "output_type": "execute_result",
          "data": {
            "text/plain": [
              "79"
            ]
          },
          "metadata": {},
          "execution_count": 42
        }
      ]
    },
    {
      "cell_type": "markdown",
      "source": [
        "**argMax** - Find the index of the maximum value"
      ],
      "metadata": {
        "id": "jZr_pv9XTHnv"
      }
    },
    {
      "cell_type": "code",
      "source": [
        "arr.argmax()"
      ],
      "metadata": {
        "colab": {
          "base_uri": "https://localhost:8080/"
        },
        "id": "43Z8ojB3RWOi",
        "outputId": "c2e608af-4219-4066-ac87-c4163eb0cccd"
      },
      "execution_count": null,
      "outputs": [
        {
          "output_type": "execute_result",
          "data": {
            "text/plain": [
              "8"
            ]
          },
          "metadata": {},
          "execution_count": 43
        }
      ]
    },
    {
      "cell_type": "code",
      "source": [
        "arr.argmin()"
      ],
      "metadata": {
        "colab": {
          "base_uri": "https://localhost:8080/"
        },
        "id": "WJ2TxS34TM-A",
        "outputId": "0a17f6ee-aa80-49ec-9841-d3f1413ddee9"
      },
      "execution_count": null,
      "outputs": [
        {
          "output_type": "execute_result",
          "data": {
            "text/plain": [
              "0"
            ]
          },
          "metadata": {},
          "execution_count": 44
        }
      ]
    },
    {
      "cell_type": "markdown",
      "source": [],
      "metadata": {
        "id": "ZsMMgEWlQ8ZY"
      }
    },
    {
      "cell_type": "code",
      "source": [
        "arr.mean()"
      ],
      "metadata": {
        "colab": {
          "base_uri": "https://localhost:8080/"
        },
        "id": "vHKFcC1gUSxk",
        "outputId": "3c682037-9d62-46ce-f1fe-38bb68efc83f"
      },
      "execution_count": null,
      "outputs": [
        {
          "output_type": "execute_result",
          "data": {
            "text/plain": [
              "56.5"
            ]
          },
          "metadata": {},
          "execution_count": 45
        }
      ]
    },
    {
      "cell_type": "code",
      "source": [
        "arr.shape"
      ],
      "metadata": {
        "colab": {
          "base_uri": "https://localhost:8080/"
        },
        "id": "oVSjNew7Ufv5",
        "outputId": "0b5ba3ae-e258-4e94-8221-75357848e678"
      },
      "execution_count": null,
      "outputs": [
        {
          "output_type": "execute_result",
          "data": {
            "text/plain": [
              "(10,)"
            ]
          },
          "metadata": {},
          "execution_count": 47
        }
      ]
    },
    {
      "cell_type": "markdown",
      "source": [
        "single-element tuple (10,). tuple - Immutable objects\n"
      ],
      "metadata": {
        "id": "_unVBuffVy2F"
      }
    },
    {
      "cell_type": "code",
      "source": [
        "type(arr)"
      ],
      "metadata": {
        "colab": {
          "base_uri": "https://localhost:8080/"
        },
        "id": "ctlO_Vh7WCNy",
        "outputId": "07397734-3f32-4eb7-f619-6869ad53436e"
      },
      "execution_count": null,
      "outputs": [
        {
          "output_type": "execute_result",
          "data": {
            "text/plain": [
              "numpy.ndarray"
            ]
          },
          "metadata": {},
          "execution_count": 51
        }
      ]
    },
    {
      "cell_type": "code",
      "source": [
        "arr1= arr"
      ],
      "metadata": {
        "id": "4Az8kGEFWkdK"
      },
      "execution_count": null,
      "outputs": []
    },
    {
      "cell_type": "code",
      "source": [
        "arr_reshape= arr1.reshape(2,5)\n",
        "arr_reshape"
      ],
      "metadata": {
        "colab": {
          "base_uri": "https://localhost:8080/"
        },
        "id": "bPyr6LBuWmmO",
        "outputId": "287303d6-2aa6-45b4-a4a8-7abdec199138"
      },
      "execution_count": null,
      "outputs": [
        {
          "output_type": "execute_result",
          "data": {
            "text/plain": [
              "array([[ 0, 78, 66, 73, 72],\n",
              "       [45, 72, 73, 79,  7]])"
            ]
          },
          "metadata": {},
          "execution_count": 54
        }
      ]
    },
    {
      "cell_type": "markdown",
      "source": [
        "matrix_resize"
      ],
      "metadata": {
        "id": "qsSFEc0ZW7Zh"
      }
    },
    {
      "cell_type": "code",
      "source": [
        "mat= np.arange(0,25).reshape(5,5)\n",
        "mat\n"
      ],
      "metadata": {
        "colab": {
          "base_uri": "https://localhost:8080/"
        },
        "id": "ZNQ3g2JHW48g",
        "outputId": "afc46b67-c78e-40cf-f82d-2e9bd5782791"
      },
      "execution_count": null,
      "outputs": [
        {
          "output_type": "execute_result",
          "data": {
            "text/plain": [
              "array([[ 0,  1,  2,  3,  4],\n",
              "       [ 5,  6,  7,  8,  9],\n",
              "       [10, 11, 12, 13, 14],\n",
              "       [15, 16, 17, 18, 19],\n",
              "       [20, 21, 22, 23, 24]])"
            ]
          },
          "metadata": {},
          "execution_count": 56
        }
      ]
    },
    {
      "cell_type": "markdown",
      "source": [
        "# New Section"
      ],
      "metadata": {
        "id": "NUgUD5l0JQpJ"
      }
    },
    {
      "cell_type": "code",
      "source": [],
      "metadata": {
        "id": "k69MZwLCBAdg",
        "colab": {
          "base_uri": "https://localhost:8080/"
        },
        "outputId": "4311acaf-b6ba-41c4-d9e3-6fb8f658b27c"
      },
      "execution_count": null,
      "outputs": [
        {
          "output_type": "stream",
          "name": "stdout",
          "text": [
            "Requirement already satisfied: numpy in /usr/local/lib/python3.11/dist-packages (1.26.4)\n"
          ]
        }
      ]
    }
  ]
}