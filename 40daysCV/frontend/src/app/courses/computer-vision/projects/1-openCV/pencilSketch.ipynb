{
 "cells": [
  {
   "cell_type": "markdown",
   "id": "14a8a363",
   "metadata": {},
   "source": [
    "# DAY2 - Projects with OpenCV"
   ]
  },
  {
   "cell_type": "markdown",
   "id": "f13a0083",
   "metadata": {},
   "source": [
    "## PencilSketch "
   ]
  },
  {
   "cell_type": "code",
   "execution_count": null,
   "id": "04e0c18a",
   "metadata": {},
   "outputs": [],
   "source": [
    "pip install opencv-python tk numpy pillow"
   ]
  },
  {
   "cell_type": "code",
   "execution_count": 8,
   "id": "5025dbc3",
   "metadata": {},
   "outputs": [],
   "source": [
    "import cv2\n",
    "import numpy as np\n",
    "import tkinter as tk\n",
    "from tkinter import filedialog, messagebox\n",
    "from PIL import Image, ImageTk"
   ]
  },
  {
   "cell_type": "code",
   "execution_count": 9,
   "id": "5e2c2c14",
   "metadata": {},
   "outputs": [],
   "source": [
    "# Dictionary to store PIL images\n",
    "images = {\"original\": None, \"sketch\": None}\n",
    "\n"
   ]
  },
  {
   "cell_type": "code",
   "execution_count": 10,
   "id": "5af66e27",
   "metadata": {},
   "outputs": [],
   "source": [
    "def open_file():\n",
    "    \"\"\"Open a file dialog to select an image and display it.\"\"\"\n",
    "    file_path = filedialog.askopenfilename(\n",
    "        title=\"Select an Image\",\n",
    "        filetypes=[(\"Image Files\", \"*.png;*.jpg;*.jpeg;*.bmp\")]\n",
    "    )\n",
    "    if not file_path:\n",
    "        return\n",
    "    \n",
    "    if file_path:\n",
    "       img = cv2.imread(file_path)\n",
    "       \n",
    "    display_image(img, original=True)\n",
    "    \n",
    "    sketchImge= convert_to_sketch(img)\n",
    "    display_image(sketchImge, original=False)"
   ]
  },
  {
   "cell_type": "markdown",
   "id": "5c3ab414",
   "metadata": {},
   "source": [
    "1.Convert the image to grayscale: This simplifies the image by removing color information.  \n",
    "2.Invert the grayscale image: Create a negative of the grayscale image.  \n",
    "3.Apply Gaussian Blur: Blur the inverted image to smooth it.  \n",
    "4.Blend the grayscale and blurred inverted image: Use a division operation to create the pencil sketch effect."
   ]
  },
  {
   "cell_type": "code",
   "execution_count": null,
   "id": "f7e71d61",
   "metadata": {},
   "outputs": [],
   "source": [
    "def convert_to_sketch(img):\n",
    "    \"\"\"Convert the image to a pencil sketch.\"\"\"\n",
    "    # Convert to grayscale\n",
    "    gray_img = cv2.cvtColor(img, cv2.COLOR_BGR2GRAY)    \n",
    "    # Invert the grayscale image\n",
    "    #inverted = 255 - gray\n",
    "    inverted_img = cv2.bitwise_not(gray_img)\n",
    "    blurred_img = cv2.GaussianBlur(inverted_img, (21, 21), sigmaX=0, sigmaY=0)\n",
    "    inverted_blur_img = cv2.bitwise_not(blurred_img)\n",
    "    sketch_img = cv2.divide(gray_img, inverted_blur_img, scale=256.0)\n",
    "    return sketch_img\n"
   ]
  },
  {
   "cell_type": "markdown",
   "id": "f9201b15",
   "metadata": {},
   "source": [
    "Image.fromarray() converts a NumPy array (from OpenCV) into a PIL Image object . \n",
    "This is necessary because Tkinter can't directly display OpenCV images; it needs a PIL image ."
   ]
  },
  {
   "cell_type": "code",
   "execution_count": 13,
   "id": "fb560f4a",
   "metadata": {},
   "outputs": [],
   "source": [
    "def display_image(img, original):\n",
    "    img_rgb = cv2.cvtColor(img, cv2.COLOR_BGR2RGB) if original else img\n",
    "    img_pil = Image.fromarray(img_rgb)\n",
    "    img_tk = ImageTk.PhotoImage(image=img_pil)\n",
    "\n",
    "    # Store the PIL image in the dictionary\n",
    "    if original:\n",
    "        images[\"original\"] = img_pil\n",
    "    else:\n",
    "        images[\"sketch\"] = img_pil\n",
    "\n",
    "    label = original_image_label if original else sketch_image_label\n",
    "    label.config(image=img_tk)\n",
    "    label.image = img_tk"
   ]
  },
  {
   "cell_type": "code",
   "execution_count": 12,
   "id": "d74eb5d2",
   "metadata": {},
   "outputs": [],
   "source": [
    "app = tk.Tk()\n",
    "app.title('Pencil Sketch Converter')\n",
    "\n",
    "frame = tk.Frame(app)\n",
    "frame.pack(pady=10, padx=10)\n",
    "\n",
    "original_image_label = tk.Label(frame)\n",
    "original_image_label.grid(row=0, column=0, padx=5, pady=5)\n",
    "sketch_image_label = tk.Label(frame)\n",
    "sketch_image_label.grid(row=0, column=1, padx=5, pady=5)"
   ]
  }
 ],
 "metadata": {
  "kernelspec": {
   "display_name": "Python 3",
   "language": "python",
   "name": "python3"
  },
  "language_info": {
   "codemirror_mode": {
    "name": "ipython",
    "version": 3
   },
   "file_extension": ".py",
   "mimetype": "text/x-python",
   "name": "python",
   "nbconvert_exporter": "python",
   "pygments_lexer": "ipython3",
   "version": "3.13.3"
  }
 },
 "nbformat": 4,
 "nbformat_minor": 5
}
