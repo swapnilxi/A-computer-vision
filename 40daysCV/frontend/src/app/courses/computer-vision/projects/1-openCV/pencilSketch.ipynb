{
 "cells": [
  {
   "cell_type": "markdown",
   "id": "14a8a363",
   "metadata": {},
   "source": [
    "# DAY2 - Projects with OpenCV"
   ]
  },
  {
   "cell_type": "markdown",
   "id": "f13a0083",
   "metadata": {},
   "source": [
    "## PencilSketch "
   ]
  },
  {
   "cell_type": "code",
   "execution_count": null,
   "id": "04e0c18a",
   "metadata": {},
   "outputs": [],
   "source": [
    "pip install opencv-python tk numpy pillow"
   ]
  },
  {
   "cell_type": "code",
   "execution_count": null,
   "id": "5025dbc3",
   "metadata": {},
   "outputs": [],
   "source": [
    "import cv2\n",
    "import numpy as np\n",
    "from PIL import Image"
   ]
  },
  {
   "cell_type": "code",
   "execution_count": 3,
   "id": "5e2c2c14",
   "metadata": {},
   "outputs": [],
   "source": [
    "# Dictionary to store PIL images\n",
    "images = {\"original\": None, \"sketch\": None}\n",
    "\n"
   ]
  },
  {
   "cell_type": "markdown",
   "id": "c1f9d0e7",
   "metadata": {},
   "source": [
    "## Convert Image to GrayScale"
   ]
  },
  {
   "cell_type": "markdown",
   "id": "5c3ab414",
   "metadata": {},
   "source": [
    "1.Convert the image to grayscale: This simplifies the image by removing color information.  \n",
    "2.Invert the grayscale image: Create a negative of the grayscale image.  \n",
    "3.Apply Gaussian Blur: Blur the inverted image to smooth it.  \n",
    "4.Blend the grayscale and blurred inverted image: Use a division operation to create the pencil sketch effect."
   ]
  },
  {
   "cell_type": "code",
   "execution_count": null,
   "id": "f7e71d61",
   "metadata": {},
   "outputs": [],
   "source": [
    "def convert_to_sketch(img):\n",
    "    \"\"\"Convert the image to a pencil sketch.\"\"\"\n",
    "    # Convert to grayscale\n",
    "    gray_img = cv2.cvtColor(img, cv2.COLOR_BGR2GRAY)    \n",
    "    # Invert the grayscale image\n",
    "    #inverted = 255 - gray\n",
    "    inverted_img = cv2.bitwise_not(gray_img)\n",
    "    blurred_img = cv2.GaussianBlur(inverted_img, (21, 21), sigmaX=0, sigmaY=0)\n",
    "    inverted_blur_img = cv2.bitwise_not(blurred_img)\n",
    "    sketch_img = cv2.divide(gray_img, inverted_blur_img, scale=256.0)\n",
    "    return sketch_img\n",
    "\n",
    "image_path = \"/Users/swapnil/Documents/Coding/Python/A-computer-vision/40daysCV/frontend/src/app/courses/computer-vision/projects/openCV/ImagesData/shiva.jpeg\"\n",
    "\n",
    "# Read and process the image\n",
    "img = cv2.imread(image_path)\n",
    "if img is None:\n",
    "    print(\"Image not found!\")\n",
    "else:\n",
    "    sketch = convert_to_sketch(img)\n",
    "    # Resize to 600x600 if needed\n",
    "    sketch_resized = cv2.resize(sketch, (600, 600), interpolation=cv2.INTER_AREA)\n",
    "    "
   ]
  },
  {
   "cell_type": "markdown",
   "id": "f9201b15",
   "metadata": {},
   "source": [
    "Image.fromarray() converts a NumPy array (from OpenCV) into a PIL Image object . \n",
    "This is necessary because Tkinter can't directly display OpenCV images; it needs a PIL image ."
   ]
  },
  {
   "cell_type": "code",
   "execution_count": null,
   "id": "71dd0599",
   "metadata": {},
   "outputs": [],
   "source": [
    "# Save the result in ImagesData folder\n",
    "    output_path = \"/Users/swapnil/Documents/Coding/Python/A-computer-vision/40daysCV/frontend/src/app/courses/computer-vision/projects/openCV/ImagesData/shiva_sketch.png\"\n",
    "    cv2.imwrite(output_path, sketch_resized)\n",
    "    Image.fromarray(sketch_resized).show()"
   ]
  },
  {
   "cell_type": "code",
   "execution_count": null,
   "id": "fb560f4a",
   "metadata": {},
   "outputs": [],
   "source": []
  },
  {
   "cell_type": "code",
   "execution_count": null,
   "id": "cee06013",
   "metadata": {},
   "outputs": [
    {
     "name": "stdout",
     "output_type": "stream",
     "text": [
      "Collecting ipywidgets\n",
      "  Downloading ipywidgets-8.1.7-py3-none-any.whl.metadata (2.4 kB)\n",
      "Requirement already satisfied: comm>=0.1.3 in /Users/swapnil/Library/Python/3.13/lib/python/site-packages (from ipywidgets) (0.2.2)\n",
      "Requirement already satisfied: ipython>=6.1.0 in /Users/swapnil/Library/Python/3.13/lib/python/site-packages (from ipywidgets) (9.2.0)\n",
      "Requirement already satisfied: traitlets>=4.3.1 in /Users/swapnil/Library/Python/3.13/lib/python/site-packages (from ipywidgets) (5.14.3)\n",
      "Collecting widgetsnbextension~=4.0.14 (from ipywidgets)\n",
      "  Downloading widgetsnbextension-4.0.14-py3-none-any.whl.metadata (1.6 kB)\n",
      "Collecting jupyterlab_widgets~=3.0.15 (from ipywidgets)\n",
      "  Downloading jupyterlab_widgets-3.0.15-py3-none-any.whl.metadata (20 kB)\n",
      "Requirement already satisfied: decorator in /Users/swapnil/Library/Python/3.13/lib/python/site-packages (from ipython>=6.1.0->ipywidgets) (5.2.1)\n",
      "Requirement already satisfied: ipython-pygments-lexers in /Users/swapnil/Library/Python/3.13/lib/python/site-packages (from ipython>=6.1.0->ipywidgets) (1.1.1)\n",
      "Requirement already satisfied: jedi>=0.16 in /Users/swapnil/Library/Python/3.13/lib/python/site-packages (from ipython>=6.1.0->ipywidgets) (0.19.2)\n",
      "Requirement already satisfied: matplotlib-inline in /Users/swapnil/Library/Python/3.13/lib/python/site-packages (from ipython>=6.1.0->ipywidgets) (0.1.7)\n",
      "Requirement already satisfied: pexpect>4.3 in /Users/swapnil/Library/Python/3.13/lib/python/site-packages (from ipython>=6.1.0->ipywidgets) (4.9.0)\n",
      "Requirement already satisfied: prompt_toolkit<3.1.0,>=3.0.41 in /Users/swapnil/Library/Python/3.13/lib/python/site-packages (from ipython>=6.1.0->ipywidgets) (3.0.51)\n",
      "Requirement already satisfied: pygments>=2.4.0 in /Users/swapnil/Library/Python/3.13/lib/python/site-packages (from ipython>=6.1.0->ipywidgets) (2.19.1)\n",
      "Requirement already satisfied: stack_data in /Users/swapnil/Library/Python/3.13/lib/python/site-packages (from ipython>=6.1.0->ipywidgets) (0.6.3)\n",
      "Requirement already satisfied: parso<0.9.0,>=0.8.4 in /Users/swapnil/Library/Python/3.13/lib/python/site-packages (from jedi>=0.16->ipython>=6.1.0->ipywidgets) (0.8.4)\n",
      "Requirement already satisfied: ptyprocess>=0.5 in /Users/swapnil/Library/Python/3.13/lib/python/site-packages (from pexpect>4.3->ipython>=6.1.0->ipywidgets) (0.7.0)\n",
      "Requirement already satisfied: wcwidth in /Users/swapnil/Library/Python/3.13/lib/python/site-packages (from prompt_toolkit<3.1.0,>=3.0.41->ipython>=6.1.0->ipywidgets) (0.2.13)\n",
      "Requirement already satisfied: executing>=1.2.0 in /Users/swapnil/Library/Python/3.13/lib/python/site-packages (from stack_data->ipython>=6.1.0->ipywidgets) (2.2.0)\n",
      "Requirement already satisfied: asttokens>=2.1.0 in /Users/swapnil/Library/Python/3.13/lib/python/site-packages (from stack_data->ipython>=6.1.0->ipywidgets) (3.0.0)\n",
      "Requirement already satisfied: pure-eval in /Users/swapnil/Library/Python/3.13/lib/python/site-packages (from stack_data->ipython>=6.1.0->ipywidgets) (0.2.3)\n",
      "Downloading ipywidgets-8.1.7-py3-none-any.whl (139 kB)\n",
      "Downloading jupyterlab_widgets-3.0.15-py3-none-any.whl (216 kB)\n",
      "Downloading widgetsnbextension-4.0.14-py3-none-any.whl (2.2 MB)\n",
      "\u001b[2K   \u001b[90m━━━━━━━━━━━━━━━━━━━━━━━━━━━━━━━━━━━━━━━━\u001b[0m \u001b[32m2.2/2.2 MB\u001b[0m \u001b[31m2.2 MB/s\u001b[0m eta \u001b[36m0:00:00\u001b[0ma \u001b[36m0:00:01\u001b[0m\n",
      "\u001b[?25hInstalling collected packages: widgetsnbextension, jupyterlab_widgets, ipywidgets\n",
      "Successfully installed ipywidgets-8.1.7 jupyterlab_widgets-3.0.15 widgetsnbextension-4.0.14\n",
      "\n",
      "\u001b[1m[\u001b[0m\u001b[34;49mnotice\u001b[0m\u001b[1;39;49m]\u001b[0m\u001b[39;49m A new release of pip is available: \u001b[0m\u001b[31;49m25.0.1\u001b[0m\u001b[39;49m -> \u001b[0m\u001b[32;49m25.1.1\u001b[0m\n",
      "\u001b[1m[\u001b[0m\u001b[34;49mnotice\u001b[0m\u001b[1;39;49m]\u001b[0m\u001b[39;49m To update, run: \u001b[0m\u001b[32;49mpip3 install --upgrade pip\u001b[0m\n",
      "Note: you may need to restart the kernel to use updated packages.\n"
     ]
    }
   ],
   "source": [
    "pip install ipywidgets\n"
   ]
  },
  {
   "cell_type": "code",
   "execution_count": null,
   "id": "bbdc2dbc",
   "metadata": {},
   "outputs": [
    {
     "data": {
      "application/vnd.jupyter.widget-view+json": {
       "model_id": "5af43a1901bd4df489bfc5bdfcc8d6dc",
       "version_major": 2,
       "version_minor": 0
      },
      "text/plain": [
       "IntSlider(value=50)"
      ]
     },
     "metadata": {},
     "output_type": "display_data"
    }
   ],
   "source": [
    "import ipywidgets as widgets\n",
    "from IPython.display import display\n",
    "\n",
    "# Create basic widgets\n",
    "slider = widgets.IntSlider(description=\"Value:\", min=0, max=100, value=50)\n",
    "text = widgets.Text(description=\"Name:\")\n",
    "button = widgets.Button(description=\"Submit\")\n",
    "\n",
    "# Display widgets\n",
    "display(slider, text, button)\n",
    "\n",
    "# Define what happens on button click\n",
    "def on_button_click(b):\n",
    "    print(f\"Hello {text.value}, you selected {slider.value}\")\n",
    "\n",
    "button.on_click(on_button_click)\n"
   ]
  }
 ],
 "metadata": {
  "kernelspec": {
   "display_name": "Python 3",
   "language": "python",
   "name": "python3"
  },
  "language_info": {
   "codemirror_mode": {
    "name": "ipython",
    "version": 3
   },
   "file_extension": ".py",
   "mimetype": "text/x-python",
   "name": "python",
   "nbconvert_exporter": "python",
   "pygments_lexer": "ipython3",
   "version": "3.13.3"
  }
 },
 "nbformat": 4,
 "nbformat_minor": 5
}
